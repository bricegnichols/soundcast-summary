{
 "cells": [
  {
   "cell_type": "code",
   "execution_count": 106,
   "metadata": {
    "collapsed": true
   },
   "outputs": [],
   "source": [
    "import pandas as pd\n",
    "import h5py\n",
    "% matplotlib inline"
   ]
  },
  {
   "cell_type": "code",
   "execution_count": 26,
   "metadata": {
    "collapsed": true
   },
   "outputs": [],
   "source": [
    "survey_h5 = h5py.File(r'R:\\SoundCastDocuments\\2014Estimation\\Files_From_Mark_2014\\xxxxP14\\skims_attached\\survey2014_new.h5')\n",
    "daysim_h5 = h5py.File(r'R:\\SoundCast\\releases\\TransportationFutures2010\\outputs\\daysim_outputs.h5')"
   ]
  },
  {
   "cell_type": "code",
   "execution_count": 58,
   "metadata": {
    "collapsed": false
   },
   "outputs": [],
   "source": [
    "pd.set_option('display.precision', 4)"
   ]
  },
  {
   "cell_type": "code",
   "execution_count": 31,
   "metadata": {
    "collapsed": false
   },
   "outputs": [],
   "source": [
    "def h5_to_df(h5file, table_list):\n",
    "    \"\"\"\n",
    "    Load h5-formatted data based on a table list. Assumes heirarchy of a set of tables.\n",
    "    \"\"\"\n",
    "    output_dict = {}\n",
    "    \n",
    "    for table in table_list:\n",
    "        df = pd.DataFrame()\n",
    "        for field in h5file[table].keys():\n",
    "            df[field] = h5file[table][field][:]\n",
    "            \n",
    "        output_dict[table] = df\n",
    "        \n",
    "    return output_dict"
   ]
  },
  {
   "cell_type": "code",
   "execution_count": 47,
   "metadata": {
    "collapsed": true
   },
   "outputs": [],
   "source": [
    "# Load subset of a dataframe as needed\n",
    "def h5_subset(h5file, table, fields):\n",
    "    df = pd.DataFrame()\n",
    "    for field in fields:\n",
    "        df[field] = h5file[table][field][:]"
   ]
  },
  {
   "cell_type": "code",
   "execution_count": 405,
   "metadata": {
    "collapsed": true
   },
   "outputs": [],
   "source": [
    "survey = h5_to_df(survey_h5, table_list=['Household','Trip','Tour','Person','HouseholdDay'])\n",
    "labels_applied = False"
   ]
  },
  {
   "cell_type": "code",
   "execution_count": 402,
   "metadata": {
    "collapsed": true
   },
   "outputs": [],
   "source": [
    "daysim = h5_to_df(daysim_h5, table_list=['Household','Trip','Tour','Person','HouseholdDay'])\n",
    "labels_applied = False"
   ]
  },
  {
   "cell_type": "code",
   "execution_count": 99,
   "metadata": {
    "collapsed": true
   },
   "outputs": [],
   "source": [
    "output_dir = 'C:\\Users\\Brice'"
   ]
  },
  {
   "cell_type": "markdown",
   "metadata": {},
   "source": [
    "## Add Labels"
   ]
  },
  {
   "cell_type": "code",
   "execution_count": 419,
   "metadata": {
    "collapsed": false
   },
   "outputs": [],
   "source": [
    "# apply labels all based on table, field, and value\n",
    "labels = pd.read_csv(r'C:\\Users\\Brice\\SUMMARY_REDO\\variable_labels.csv')\n",
    "\n",
    "# Only run this once, set labels_applied = False in loading \n",
    "if not labels_applied:\n",
    "    for table in labels['table'].unique():\n",
    "        df = labels[labels['table'] == table]\n",
    "        for field in df['field'].unique():\n",
    "            newdf = df[df['field'] == field]\n",
    "            local_series = pd.Series(newdf['text'].values, index=newdf['value'])\n",
    "#             survey[table][field] = survey[table][field].map(local_series)\n",
    "            daysim[table][field] = daysim[table][field].map(local_series)\n",
    "\n",
    "# Only run this once\n",
    "labels_applied = True"
   ]
  },
  {
   "cell_type": "markdown",
   "metadata": {},
   "source": [
    "# Tour Mode Share"
   ]
  },
  {
   "cell_type": "code",
   "execution_count": 421,
   "metadata": {
    "collapsed": false
   },
   "outputs": [
    {
     "name": "stdout",
     "output_type": "stream",
     "text": [
      "            survey  daysim  % difference\n",
      "Bike         0.014   0.009        -0.336\n",
      "HOV2         0.219   0.237         0.084\n",
      "HOV3+        0.190   0.206         0.084\n",
      "Other        0.010     NaN           NaN\n",
      "Park         0.010   0.007        -0.284\n",
      "SOV          0.348   0.389         0.118\n",
      "School Bus   0.038   0.048         0.272\n",
      "Transit      0.056   0.032        -0.432\n",
      "Walk         0.116   0.073        -0.376\n",
      "total        1.000   1.000        -0.870\n"
     ]
    },
    {
     "data": {
      "text/plain": [
       "<matplotlib.axes._subplots.AxesSubplot at 0x34e8a240>"
      ]
     },
     "execution_count": 421,
     "metadata": {},
     "output_type": "execute_result"
    },
    {
     "data": {
      "image/png": "[encoded data removed]",
      "text/plain": [
       "<matplotlib.figure.Figure at 0x34e8ab00>"
      ]
     },
     "metadata": {},
     "output_type": "display_data"
    }
   ],
   "source": [
    "results_df = pd.DataFrame()\n",
    "mydict = {'survey': survey['Tour'], 'daysim': daysim['Tour']}\n",
    "for name, df in mydict.iteritems():\n",
    "    results_df[name] = (df.groupby('tmodetp').sum()['toexpfac'])/df['toexpfac'].sum()\n",
    "\n",
    "# Difference\n",
    "results_df['% difference'] = (results_df['daysim']-results_df['survey'])/results_df['survey']\n",
    "\n",
    "results_df.loc['total'] = results_df.sum(axis=0)\n",
    "fname = 'tour_mode_share'\n",
    "results_df.to_csv(output_dir + r'\\\\' + fname + '.csv')\n",
    "\n",
    "print results_df\n",
    "\n",
    "results_df[['survey','daysim']].drop('total',axis=0).plot(kind='bar', alpha=0.7)"
   ]
  },
  {
   "cell_type": "markdown",
   "metadata": {},
   "source": [
    "# Tour Mode Share by Purpose"
   ]
  },
  {
   "cell_type": "code",
   "execution_count": 449,
   "metadata": {
    "collapsed": false
   },
   "outputs": [],
   "source": [
    "results_dict = {}\n",
    "mydict = {'survey': survey['Tour'], 'daysim': daysim['Tour']}\n",
    "for name, df in mydict.iteritems():\n",
    "    tempdf = pd.pivot_table(data=df,index='tmodetp',columns='pdpurp',values='toexpfac',aggfunc='sum')\n",
    "    tempdf = tempdf.apply(lambda row : row/row.sum(), axis=0)\n",
    "    tempdf.loc['total'] = tempdf.sum(axis=0)\n",
    "    results_dict[name] = tempdf\n",
    "    \n",
    "\n",
    "\n",
    "\n",
    "# # Difference\n",
    "# results_df['% difference'] = (results_df['daysim']-results_df['survey'])/results_df['survey']\n",
    "\n",
    "# results_df.loc['total'] = results_df.sum(axis=0)\n",
    "# fname = 'tour_mode_share'\n",
    "# results_df.to_csv(output_dir + r'\\\\' + fname + '.csv')\n",
    "\n",
    "# print results_df\n",
    "\n",
    "# results_df[['survey','daysim']].drop('total',axis=0).plot(kind='bar', alpha=0.7)"
   ]
  },
  {
   "cell_type": "code",
   "execution_count": 445,
   "metadata": {
    "collapsed": false
   },
   "outputs": [],
   "source": [
    "# Join daysim and survey records together\n",
    "df = pd.merge(results_dict['survey'], results_dict['daysim'])"
   ]
  },
  {
   "cell_type": "code",
   "execution_count": 453,
   "metadata": {
    "collapsed": false
   },
   "outputs": [
    {
     "data": {
      "text/html": [
       "<div style=\"max-height:1000px;max-width:1500px;overflow:auto;\">\n",
       "<table border=\"1\" class=\"dataframe\">\n",
       "  <thead>\n",
       "    <tr style=\"text-align: right;\">\n",
       "      <th>pdpurp</th>\n",
       "      <th>Escort</th>\n",
       "      <th>Meal</th>\n",
       "      <th>Personal Business</th>\n",
       "      <th>School</th>\n",
       "      <th>Shop</th>\n",
       "      <th>Social</th>\n",
       "      <th>Work</th>\n",
       "    </tr>\n",
       "  </thead>\n",
       "  <tbody>\n",
       "    <tr>\n",
       "      <th>Bike</th>\n",
       "      <td> 0.003</td>\n",
       "      <td> 0.005</td>\n",
       "      <td> 0.011</td>\n",
       "      <td> 0.015</td>\n",
       "      <td> 0.011</td>\n",
       "      <td> 0.008</td>\n",
       "      <td> 0.011</td>\n",
       "    </tr>\n",
       "    <tr>\n",
       "      <th>HOV2</th>\n",
       "      <td> 0.391</td>\n",
       "      <td> 0.345</td>\n",
       "      <td> 0.235</td>\n",
       "      <td> 0.145</td>\n",
       "      <td> 0.210</td>\n",
       "      <td> 0.292</td>\n",
       "      <td> 0.129</td>\n",
       "    </tr>\n",
       "    <tr>\n",
       "      <th>HOV3+</th>\n",
       "      <td> 0.536</td>\n",
       "      <td> 0.176</td>\n",
       "      <td> 0.147</td>\n",
       "      <td> 0.292</td>\n",
       "      <td> 0.111</td>\n",
       "      <td> 0.167</td>\n",
       "      <td> 0.060</td>\n",
       "    </tr>\n",
       "    <tr>\n",
       "      <th>Park</th>\n",
       "      <td>   NaN</td>\n",
       "      <td>   NaN</td>\n",
       "      <td>   NaN</td>\n",
       "      <td>   NaN</td>\n",
       "      <td>   NaN</td>\n",
       "      <td>   NaN</td>\n",
       "      <td> 0.028</td>\n",
       "    </tr>\n",
       "    <tr>\n",
       "      <th>SOV</th>\n",
       "      <td> 0.015</td>\n",
       "      <td> 0.324</td>\n",
       "      <td> 0.542</td>\n",
       "      <td> 0.101</td>\n",
       "      <td> 0.547</td>\n",
       "      <td> 0.391</td>\n",
       "      <td> 0.678</td>\n",
       "    </tr>\n",
       "    <tr>\n",
       "      <th>School Bus</th>\n",
       "      <td>   NaN</td>\n",
       "      <td>   NaN</td>\n",
       "      <td>   NaN</td>\n",
       "      <td> 0.326</td>\n",
       "      <td>   NaN</td>\n",
       "      <td>   NaN</td>\n",
       "      <td>   NaN</td>\n",
       "    </tr>\n",
       "    <tr>\n",
       "      <th>Transit</th>\n",
       "      <td> 0.000</td>\n",
       "      <td> 0.015</td>\n",
       "      <td> 0.021</td>\n",
       "      <td> 0.033</td>\n",
       "      <td> 0.020</td>\n",
       "      <td> 0.019</td>\n",
       "      <td> 0.072</td>\n",
       "    </tr>\n",
       "    <tr>\n",
       "      <th>Walk</th>\n",
       "      <td> 0.054</td>\n",
       "      <td> 0.134</td>\n",
       "      <td> 0.044</td>\n",
       "      <td> 0.089</td>\n",
       "      <td> 0.101</td>\n",
       "      <td> 0.124</td>\n",
       "      <td> 0.022</td>\n",
       "    </tr>\n",
       "    <tr>\n",
       "      <th>total</th>\n",
       "      <td> 1.000</td>\n",
       "      <td> 1.000</td>\n",
       "      <td> 1.000</td>\n",
       "      <td> 1.000</td>\n",
       "      <td> 1.000</td>\n",
       "      <td> 1.000</td>\n",
       "      <td> 1.000</td>\n",
       "    </tr>\n",
       "  </tbody>\n",
       "</table>\n",
       "</div>"
      ],
      "text/plain": [
       "pdpurp      Escort   Meal  Personal Business  School   Shop  Social   Work\n",
       "Bike         0.003  0.005              0.011   0.015  0.011   0.008  0.011\n",
       "HOV2         0.391  0.345              0.235   0.145  0.210   0.292  0.129\n",
       "HOV3+        0.536  0.176              0.147   0.292  0.111   0.167  0.060\n",
       "Park           NaN    NaN                NaN     NaN    NaN     NaN  0.028\n",
       "SOV          0.015  0.324              0.542   0.101  0.547   0.391  0.678\n",
       "School Bus     NaN    NaN                NaN   0.326    NaN     NaN    NaN\n",
       "Transit      0.000  0.015              0.021   0.033  0.020   0.019  0.072\n",
       "Walk         0.054  0.134              0.044   0.089  0.101   0.124  0.022\n",
       "total        1.000  1.000              1.000   1.000  1.000   1.000  1.000"
      ]
     },
     "execution_count": 453,
     "metadata": {},
     "output_type": "execute_result"
    }
   ],
   "source": [
    "results_dict['daysim']"
   ]
  },
  {
   "cell_type": "code",
   "execution_count": 437,
   "metadata": {
    "collapsed": false
   },
   "outputs": [
    {
     "data": {
      "text/plain": [
       "Index([u'Bike', u'HOV2', u'HOV3+', u'Park', u'SOV', u'School Bus', u'Transit', u'Walk', u'total'], dtype='object')"
      ]
     },
     "execution_count": 437,
     "metadata": {},
     "output_type": "execute_result"
    }
   ],
   "source": [
    "results_dict['daysim'].index"
   ]
  },
  {
   "cell_type": "code",
   "execution_count": null,
   "metadata": {
    "collapsed": false
   },
   "outputs": [],
   "source": []
  },
  {
   "cell_type": "code",
   "execution_count": 386,
   "metadata": {
    "collapsed": false
   },
   "outputs": [
    {
     "data": {
      "text/plain": [
       "value\n",
       "1            Random Proportional\n",
       "2        Transit Area Enrichment\n",
       "3                Ferry Intercept\n",
       "4        Park and Ride Intercept\n",
       "dtype: object"
      ]
     },
     "execution_count": 386,
     "metadata": {},
     "output_type": "execute_result"
    }
   ],
   "source": [
    "local_series"
   ]
  },
  {
   "cell_type": "code",
   "execution_count": 397,
   "metadata": {
    "collapsed": false
   },
   "outputs": [
    {
     "data": {
      "text/plain": [
       "0             Ferry Intercept\n",
       "1             Ferry Intercept\n",
       "2         Random Proportional\n",
       "3             Ferry Intercept\n",
       "4             Ferry Intercept\n",
       "5             Ferry Intercept\n",
       "6     Transit Area Enrichment\n",
       "7             Ferry Intercept\n",
       "8             Ferry Intercept\n",
       "9     Transit Area Enrichment\n",
       "10            Ferry Intercept\n",
       "11        Random Proportional\n",
       "12    Transit Area Enrichment\n",
       "13            Ferry Intercept\n",
       "14    Transit Area Enrichment\n",
       "...\n",
       "7945    NaN\n",
       "7946    NaN\n",
       "7947    NaN\n",
       "7948    NaN\n",
       "7949    NaN\n",
       "7950    NaN\n",
       "7951    NaN\n",
       "7952    NaN\n",
       "7953    NaN\n",
       "7954    NaN\n",
       "7955    NaN\n",
       "7956    NaN\n",
       "7957    NaN\n",
       "7958    NaN\n",
       "7959    NaN\n",
       "Name: samptype, Length: 7960, dtype: object"
      ]
     },
     "execution_count": 397,
     "metadata": {},
     "output_type": "execute_result"
    }
   ],
   "source": [
    "survey[table][field]"
   ]
  },
  {
   "cell_type": "code",
   "execution_count": 340,
   "metadata": {
    "collapsed": false
   },
   "outputs": [],
   "source": [
    "test = pd.Series(newdf['text'])\n",
    "test.index = newdf['value']"
   ]
  },
  {
   "cell_type": "code",
   "execution_count": 341,
   "metadata": {
    "collapsed": false
   },
   "outputs": [
    {
     "data": {
      "text/plain": [
       "value\n",
       "0                   None\n",
       "1           Full Network\n",
       "2        No-Toll Network\n",
       "3              Local Bus\n",
       "4             Light Rail\n",
       "5            Premium Bus\n",
       "6          Commuter Rail\n",
       "7                  Ferry\n",
       "Name: text, dtype: object"
      ]
     },
     "execution_count": 341,
     "metadata": {},
     "output_type": "execute_result"
    }
   ],
   "source": [
    "test"
   ]
  },
  {
   "cell_type": "code",
   "execution_count": 270,
   "metadata": {
    "collapsed": false
   },
   "outputs": [],
   "source": [
    "local_series = pd.Series(newdf['text'],index=newdf['value'])"
   ]
  },
  {
   "cell_type": "code",
   "execution_count": 349,
   "metadata": {
    "collapsed": false
   },
   "outputs": [
    {
     "data": {
      "text/plain": [
       "value\n",
       "0                   None\n",
       "1           Full Network\n",
       "2        No-Toll Network\n",
       "3              Local Bus\n",
       "4             Light Rail\n",
       "5            Premium Bus\n",
       "6          Commuter Rail\n",
       "7                  Ferry\n",
       "dtype: object"
      ]
     },
     "execution_count": 349,
     "metadata": {},
     "output_type": "execute_result"
    }
   ],
   "source": [
    "local_series"
   ]
  },
  {
   "cell_type": "code",
   "execution_count": 273,
   "metadata": {
    "collapsed": false
   },
   "outputs": [
    {
     "data": {
      "text/plain": [
       "0                  Shop\n",
       "1     Personal Business\n",
       "2                School\n",
       "3                School\n",
       "4                School\n",
       "5                School\n",
       "6                  Work\n",
       "7                School\n",
       "8                School\n",
       "9     Personal Business\n",
       "10               School\n",
       "11                 Meal\n",
       "12                 Meal\n",
       "13               School\n",
       "14               School\n",
       "...\n",
       "19224               Social\n",
       "19225               Social\n",
       "19226                 Work\n",
       "19227                 Work\n",
       "19228                 Work\n",
       "19229                 Work\n",
       "19230                 Work\n",
       "19231    Personal Business\n",
       "19232    Personal Business\n",
       "19233    Personal Business\n",
       "19234                 Work\n",
       "19235                 Work\n",
       "19236               Social\n",
       "19237                 Work\n",
       "19238                 Meal\n",
       "Name: pdpurp, Length: 19239, dtype: object"
      ]
     },
     "execution_count": 273,
     "metadata": {},
     "output_type": "execute_result"
    }
   ],
   "source": []
  },
  {
   "cell_type": "code",
   "execution_count": 267,
   "metadata": {
    "collapsed": false
   },
   "outputs": [
    {
     "data": {
      "text/html": [
       "<div style=\"max-height:1000px;max-width:1500px;overflow:auto;\">\n",
       "<table border=\"1\" class=\"dataframe\">\n",
       "  <thead>\n",
       "    <tr style=\"text-align: right;\">\n",
       "      <th></th>\n",
       "      <th>text</th>\n",
       "    </tr>\n",
       "    <tr>\n",
       "      <th>value</th>\n",
       "      <th></th>\n",
       "    </tr>\n",
       "  </thead>\n",
       "  <tbody>\n",
       "    <tr>\n",
       "      <th>0 </th>\n",
       "      <td>                    None/Home</td>\n",
       "    </tr>\n",
       "    <tr>\n",
       "      <th>1 </th>\n",
       "      <td>                         Work</td>\n",
       "    </tr>\n",
       "    <tr>\n",
       "      <th>2 </th>\n",
       "      <td>                       School</td>\n",
       "    </tr>\n",
       "    <tr>\n",
       "      <th>3 </th>\n",
       "      <td>                       Escort</td>\n",
       "    </tr>\n",
       "    <tr>\n",
       "      <th>4 </th>\n",
       "      <td>            Personal Business</td>\n",
       "    </tr>\n",
       "    <tr>\n",
       "      <th>5 </th>\n",
       "      <td>                         Shop</td>\n",
       "    </tr>\n",
       "    <tr>\n",
       "      <th>6 </th>\n",
       "      <td>                         Meal</td>\n",
       "    </tr>\n",
       "    <tr>\n",
       "      <th>7 </th>\n",
       "      <td>                       Social</td>\n",
       "    </tr>\n",
       "    <tr>\n",
       "      <th>8 </th>\n",
       "      <td>                       Social</td>\n",
       "    </tr>\n",
       "    <tr>\n",
       "      <th>9 </th>\n",
       "      <td>            Personal Business</td>\n",
       "    </tr>\n",
       "    <tr>\n",
       "      <th>10</th>\n",
       "      <td> Change Mode Inserted Purpose</td>\n",
       "    </tr>\n",
       "  </tbody>\n",
       "</table>\n",
       "</div>"
      ],
      "text/plain": [
       "                               text\n",
       "value                              \n",
       "0                         None/Home\n",
       "1                              Work\n",
       "2                            School\n",
       "3                            Escort\n",
       "4                 Personal Business\n",
       "5                              Shop\n",
       "6                              Meal\n",
       "7                            Social\n",
       "8                            Social\n",
       "9                 Personal Business\n",
       "10     Change Mode Inserted Purpose"
      ]
     },
     "execution_count": 267,
     "metadata": {},
     "output_type": "execute_result"
    }
   ],
   "source": [
    "lookup_df"
   ]
  },
  {
   "cell_type": "code",
   "execution_count": 225,
   "metadata": {
    "collapsed": false
   },
   "outputs": [],
   "source": [
    "mydict = newdf[['value','text']].to_dict()['text']\n",
    "tour.replace({'pdpurp':mydict},inplace=True)"
   ]
  },
  {
   "cell_type": "code",
   "execution_count": 226,
   "metadata": {
    "collapsed": false
   },
   "outputs": [
    {
     "data": {
      "text/plain": [
       "Index([u'c', u'd', u'day', u'fhtindx1', u'fhtindx2', u'hhno', u'id', u'jtindex', u'parent', u'pdpurp', u'phtindx1', u'phtindx2', u'pno', u'subtrs', u't', u'tardest', u'tarorig', u'tautocost', u'tautodist', u'tautotime', u'tdadtyp', u'tdpcl', u'tdtaz', u'tlvdest', u'tlvorig', u'tmodetp', u'toadtyp', u'toexpfac', u'topcl', u'totaz', u'tour', u'tpathtp', u'tripsh1', u'tripsh2'], dtype='object')"
      ]
     },
     "execution_count": 226,
     "metadata": {},
     "output_type": "execute_result"
    }
   ],
   "source": [
    "tour.columns"
   ]
  },
  {
   "cell_type": "code",
   "execution_count": 228,
   "metadata": {
    "collapsed": false
   },
   "outputs": [
    {
     "data": {
      "text/plain": [
       "{51: 'Random Proportional',\n",
       " 52: 'Transit Area Enrichment',\n",
       " 53: 'Ferry Intercept',\n",
       " 54: 'Park and Ride Intercept'}"
      ]
     },
     "execution_count": 228,
     "metadata": {},
     "output_type": "execute_result"
    }
   ],
   "source": [
    "mydict"
   ]
  },
  {
   "cell_type": "code",
   "execution_count": 227,
   "metadata": {
    "collapsed": false
   },
   "outputs": [
    {
     "data": {
      "text/plain": [
       "0     5\n",
       "1     4\n",
       "2     2\n",
       "3     2\n",
       "4     2\n",
       "5     2\n",
       "6     1\n",
       "7     2\n",
       "8     2\n",
       "9     4\n",
       "10    2\n",
       "11    6\n",
       "12    6\n",
       "13    2\n",
       "14    2\n",
       "...\n",
       "19224    7\n",
       "19225    7\n",
       "19226    1\n",
       "19227    1\n",
       "19228    1\n",
       "19229    1\n",
       "19230    1\n",
       "19231    4\n",
       "19232    4\n",
       "19233    4\n",
       "19234    1\n",
       "19235    1\n",
       "19236    7\n",
       "19237    1\n",
       "19238    6\n",
       "Name: pdpurp, Length: 19239, dtype: int32"
      ]
     },
     "execution_count": 227,
     "metadata": {},
     "output_type": "execute_result"
    }
   ],
   "source": [
    "tour['pdpurp']"
   ]
  },
  {
   "cell_type": "code",
   "execution_count": null,
   "metadata": {
    "collapsed": true
   },
   "outputs": [],
   "source": []
  }
 ],
 "metadata": {
  "kernelspec": {
   "display_name": "Python 2",
   "language": "python",
   "name": "python2"
  },
  "language_info": {
   "codemirror_mode": {
    "name": "ipython",
    "version": 2
   },
   "file_extension": ".py",
   "mimetype": "text/x-python",
   "name": "python",
   "nbconvert_exporter": "python",
   "pygments_lexer": "ipython2",
   "version": "2.7.9"
  }
 },
 "nbformat": 4,
 "nbformat_minor": 0
}
