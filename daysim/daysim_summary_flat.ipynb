{
 "cells": [
  {
   "cell_type": "markdown",
   "metadata": {},
   "source": [
    "- produce csv output summary of daysim results for use in tableau and other sources"
   ]
  },
  {
   "cell_type": "code",
   "execution_count": 448,
   "metadata": {
    "collapsed": true
   },
   "outputs": [],
   "source": [
    "import os\n",
    "import pandas as pd\n",
    "import h5py\n",
    "% matplotlib inline"
   ]
  },
  {
   "cell_type": "code",
   "execution_count": 447,
   "metadata": {
    "collapsed": true
   },
   "outputs": [],
   "source": [
    "def h5_to_df(h5file, table_list, name=False):\n",
    "    \"\"\"\n",
    "    Load h5-formatted data based on a table list. Assumes heirarchy of a set of tables.\n",
    "    \"\"\"\n",
    "    output_dict = {}\n",
    "    \n",
    "    for table in table_list:\n",
    "        df = pd.DataFrame()\n",
    "        for field in h5file[table].keys():\n",
    "            df[field] = h5file[table][field][:]\n",
    "            \n",
    "        output_dict[table] = df\n",
    "    \n",
    "    if name:\n",
    "        output_dict['name'] = name\n",
    "    \n",
    "    return output_dict"
   ]
  },
  {
   "cell_type": "code",
   "execution_count": 491,
   "metadata": {
    "collapsed": true
   },
   "outputs": [],
   "source": [
    "def add_row(df, row_name, description, value):\n",
    "    df.ix[row_name,'description'] = description\n",
    "    df.ix[row_name,'value'] = value\n",
    "    \n",
    "    return df"
   ]
  },
  {
   "cell_type": "code",
   "execution_count": 197,
   "metadata": {
    "collapsed": true
   },
   "outputs": [],
   "source": [
    "labels = pd.read_csv(r'variable_labels.csv')\n",
    "districts = pd.read_csv(r'data/district_lookup.csv')"
   ]
  },
  {
   "cell_type": "code",
   "execution_count": 458,
   "metadata": {
    "collapsed": false
   },
   "outputs": [],
   "source": [
    "# list of runs to add to the analysis, to come from the script argument (?)"
   ]
  },
  {
   "cell_type": "code",
   "execution_count": 545,
   "metadata": {
    "collapsed": false
   },
   "outputs": [
    {
     "name": "stdout",
     "output_type": "stream",
     "text": [
      "processing TransportationFutures2010\n",
      "processing: survey\n",
      "processing soundcast_release_c1\n"
     ]
    }
   ],
   "source": [
    "model_runs = [r'R:\\SoundCast\\releases\\TransportationFutures2010',\n",
    "              r'R:\\SoundCast\\releases\\soundcast_release_c1']\n",
    "\n",
    "# model_runs = [r'R:\\SoundCast\\releases\\TransportationFutures2010']\n",
    "\n",
    "# Assume standard path for survey, which can be overridden as arg\n",
    "survey_dir = r'R:\\SoundCast\\Inputs\\2014\\etc\\survey.h5'\n",
    "\n",
    "output_dir = r'J:\\projects\\soundcast\\soundcast_dashboard\\model_output'\n",
    "\n",
    "survey_added = False\n",
    "\n",
    "for model_dir in model_runs:\n",
    "\n",
    "    # Process daysim results\n",
    "    \n",
    "    daysim_h5 = h5py.File(os.path.join(model_dir,r'outputs/daysim_outputs.h5'))\n",
    "    # name of scenario is last level of directory\n",
    "    scenario_name = os.path.basename(model_dir)\n",
    "    \n",
    "    print 'processing ' + scenario_name\n",
    "    \n",
    "    # Perform calculations and export to csv\n",
    "    process_dataset(h5file=daysim_h5, scenario_name=scenario_name)\n",
    "    \n",
    "    del daysim_h5 # drop from memory to save space for next comparison\n",
    "    \n",
    "    if not survey_added:\n",
    "        print 'processing: survey'\n",
    "        \n",
    "        survey_h5 = h5py.File(survey_dir)\n",
    "        process_dataset(h5file=survey_h5, scenario_name='survey')\n",
    "        \n",
    "        survey_added = True\n",
    "        \n",
    "    # Process network results\n",
    "    network_df = network_results(model_dir, dataset_name=scenario_name)\n",
    "    write_csv(network_df, fname='network_summary.csv')"
   ]
  },
  {
   "cell_type": "code",
   "execution_count": 486,
   "metadata": {
    "collapsed": true
   },
   "outputs": [],
   "source": [
    "def apply_lables(h5data):\n",
    "    '''\n",
    "    Replace daysim formatted values with human readable lablels.\n",
    "    '''\n",
    "    for table in labels['table'].unique():\n",
    "        df = labels[labels['table'] == table]\n",
    "        for field in df['field'].unique():\n",
    "            newdf = df[df['field'] == field]\n",
    "            local_series = pd.Series(newdf['text'].values, index=newdf['value'])\n",
    "            h5data[table][field] = h5data[table][field].map(local_series)\n",
    "    \n",
    "    return h5data"
   ]
  },
  {
   "cell_type": "code",
   "execution_count": 518,
   "metadata": {
    "collapsed": false
   },
   "outputs": [],
   "source": [
    "def process_dataset(h5file, scenario_name):\n",
    "    \n",
    "    # Process all daysim results\n",
    "    \n",
    "    # Load h5 data as dataframes\n",
    "    ### ONLY for surveys first FIX THIS\n",
    "    dataset = h5_to_df(h5file, table_list=['Household','Trip','Tour','Person','HouseholdDay'], name=scenario_name)\n",
    "\n",
    "    dataset = apply_lables(dataset)\n",
    "    \n",
    "    # Calculate aggregate measures csv\n",
    "    agg_df = agg_measures(dataset)\n",
    "    write_csv(agg_df,fname='agg_measures.csv')\n",
    "    \n",
    "    purpose_df = purpose_summary(dataset)\n",
    "    write_csv(purpose_df,fname='purpose.csv')\n",
    "    \n",
    "    mode_df = mode_summary(dataset)\n",
    "    write_csv(mode_df,fname='mode.csv')\n",
    "    \n",
    "    district_df = district_summary(dataset)\n",
    "    write_csv(district_df,fname='district.csv')\n",
    "    "
   ]
  },
  {
   "cell_type": "code",
   "execution_count": 540,
   "metadata": {
    "collapsed": true
   },
   "outputs": [],
   "source": [
    "def write_csv(df,fname):\n",
    "    '''\n",
    "    Write dataframe to file; append existing file\n",
    "    '''\n",
    "#     df.to_csv(os.path.join(output_dir,fname),mode='a')\n",
    "    if not os.path.isfile(os.path.join(output_dir,fname)):\n",
    "        df.to_csv(os.path.join(output_dir,fname))\n",
    "    else: # append without writing the header\n",
    "        df.to_csv(os.path.join(output_dir,fname), mode ='a', header=False)"
   ]
  },
  {
   "cell_type": "code",
   "execution_count": 504,
   "metadata": {
    "collapsed": false
   },
   "outputs": [],
   "source": [
    "def agg_measures(dataset):\n",
    "    df = pd.DataFrame()\n",
    "\n",
    "    # Total Persons\n",
    "    df = add_row(df, row_name='total_persons', description='Total Persons', value=dataset['Person']['psexpfac'].sum())\n",
    "\n",
    "    # Total Households\n",
    "    df = add_row(df, row_name='total_hhs', description='Total Households', value=dataset['Household']['hhexpfac'].sum())\n",
    "\n",
    "    # Average Household Size\n",
    "    avg_hh_size = (dataset['Household']['hhsize']*dataset['Household']['hhexpfac']).sum()/dataset['Household']['hhexpfac'].sum()\n",
    "    df = add_row(df, row_name='avg_hh_size', description='Average Household Size', value=avg_hh_size)\n",
    "\n",
    "    # Average Trips per Person\n",
    "    trips_per_person = dataset['Trip']['trexpfac'].sum()/dataset['Person']['psexpfac'].sum()\n",
    "    df = add_row(df, row_name='trips_per_person', description='Average Trips per Person', value=trips_per_person)\n",
    "\n",
    "    # Average Trip Length\n",
    "    trip_len = (dataset['Trip']['travdist']*dataset['Trip']['trexpfac']).sum()/dataset['Trip']['trexpfac'].sum()\n",
    "    df = add_row(df, row_name='trip_len', description='Average Trips Length', value=trip_len)\n",
    "\n",
    "    # VMT per capita\n",
    "    driver_trips = dataset['Trip'][dataset['Trip']['dorp'] == 'Driver']\n",
    "    vmt_per_cap = (driver_trips['travdist']*driver_trips['trexpfac']).sum()/dataset['Person']['psexpfac'].sum()\n",
    "    df = add_row(df, row_name='vmt_per_cap', description='VMT per Person', value=vmt_per_cap)\n",
    "\n",
    "    # Average distance to work\n",
    "    to_work_tours = dataset['Tour'][dataset['Tour']['pdpurp'] == 'Work']\n",
    "    dist_to_work = (to_work_tours['tautodist']*to_work_tours['toexpfac']).sum()/to_work_tours['toexpfac'].sum()\n",
    "    df = add_row(df, row_name='dist_to_work', description='Avg Distance to Work', value=dist_to_work)\n",
    "\n",
    "    # Average distance to school\n",
    "    to_school_tours = dataset['Tour'][dataset['Tour']['pdpurp'] == 'School']\n",
    "    dist_to_school = (to_school_tours['tautodist']*to_school_tours['toexpfac']).sum()/to_school_tours['toexpfac'].sum()\n",
    "    df = add_row(df, row_name='dist_to_school', description='Avg Distance to School', value=dist_to_school)\n",
    "    \n",
    "    # add datasource field\n",
    "    df['source'] = dataset['name']\n",
    "    \n",
    "    return df"
   ]
  },
  {
   "cell_type": "code",
   "execution_count": 542,
   "metadata": {
    "collapsed": true
   },
   "outputs": [],
   "source": [
    "def purpose_summary(dataset):\n",
    "    tour = dataset['Tour']\n",
    "    trip = dataset['Trip']\n",
    "    hh = dataset['Household']\n",
    "    person = dataset['Person']\n",
    "    \n",
    "    # Tour distance by purpose\n",
    "    tour['tautodist_wt'] = tour['toexpfac']*tour['tautodist']\n",
    "    dist_by_tour_purp = pd.DataFrame(tour.groupby('pdpurp').sum()['tautodist_wt']/tour.groupby('pdpurp').sum()['toexpfac'],\n",
    "                                    columns=['dist_by_tour_purp'])\n",
    "    dist_by_tour_purp['purpose'] = dist_by_tour_purp.index\n",
    "\n",
    "    # Trip distance by purpose\n",
    "    trip['travdist_wt'] = trip['trexpfac']*trip['travdist']\n",
    "    dist_by_trip_purp = pd.DataFrame(trip.groupby('dpurp').sum()['travdist_wt']/trip.groupby('dpurp').sum()['trexpfac'],\n",
    "                                    columns=['dist_by_trip_purp'])\n",
    "    dist_by_trip_purp['purpose'] = dist_by_trip_purp.index\n",
    "\n",
    "    # number of total tours generated by purpose\n",
    "    total_tours = pd.DataFrame(tour.groupby('pdpurp').sum()['toexpfac'])\n",
    "    total_tours.rename(columns={'toexpfac':'total_tours'},inplace=True)\n",
    "    total_tours['purpose'] = total_tours.index\n",
    "    total_tours.reset_index(inplace=True, drop=True)\n",
    "\n",
    "    # trip mode share\n",
    "    trips_by_mode = pd.pivot_table(trip,values='trexpfac',index='dpurp',columns='mode',aggfunc='sum')\n",
    "    trips_by_mode.columns = [i+'_trips' for i in trips_by_mode.columns]\n",
    "    trips_by_mode['purpose'] = trips_by_mode.index\n",
    "    trips_by_mode.reset_index(inplace=True, drop=True)\n",
    "\n",
    "    # tour mode share\n",
    "    tours_by_mode = pd.pivot_table(tour,values='toexpfac',index='pdpurp',columns='tmodetp',aggfunc='sum')\n",
    "    tours_by_mode.columns = [i+'_tours' for i in tours_by_mode.columns]\n",
    "    tours_by_mode['purpose'] = tours_by_mode.index\n",
    "    tours_by_mode.reset_index(inplace=True, drop=True)\n",
    "\n",
    "    # merge all dataframes with data by purpose\n",
    "    df_list = [dist_by_tour_purp, dist_by_trip_purp, total_tours, tours_by_mode, trips_by_mode]\n",
    "    purpose_df = reduce(lambda left,right: pd.merge(left,right,on='purpose'), df_list)\n",
    "\n",
    "    # If data source is survey, drop \"Other mode\" columns\n",
    "    if dataset['name'] == 'survey':\n",
    "        purpose_df.drop(['Other_tours','Other_trips'],axis=1,inplace=True)\n",
    "    \n",
    "    # add datasource field\n",
    "    purpose_df['source'] = dataset['name']\n",
    "    \n",
    "    return purpose_df"
   ]
  },
  {
   "cell_type": "code",
   "execution_count": 507,
   "metadata": {
    "collapsed": true
   },
   "outputs": [],
   "source": [
    "def mode_summary(dataset):\n",
    "    \n",
    "    tour = dataset['Tour']\n",
    "    trip = dataset['Trip']\n",
    "    hh = dataset['Household']\n",
    "    person = dataset['Person']\n",
    "    \n",
    "    # Tour distance by purpose\n",
    "    tour['tautodist_wt'] = tour['toexpfac']*tour['tautodist']\n",
    "    dist_by_tour_mode = pd.DataFrame(tour.groupby('tmodetp').sum()['tautodist_wt']/tour.groupby('tmodetp').sum()['toexpfac'],\n",
    "                                    columns=['dist_by_tour_mode'])\n",
    "    dist_by_tour_mode['mode'] = dist_by_tour_mode.index\n",
    "\n",
    "    # Trip distance by purpose\n",
    "    trip['travdist_wt'] = trip['trexpfac']*trip['travdist']\n",
    "    dist_by_trip_mode = pd.DataFrame(trip.groupby('mode').sum()['travdist_wt']/trip.groupby('mode').sum()['trexpfac'],\n",
    "                                    columns=['dist_by_trip_mode'])\n",
    "    dist_by_trip_mode['mode'] = dist_by_trip_mode.index\n",
    "\n",
    "    # merge all dataframes with data by purpose\n",
    "    df_list = [dist_by_tour_mode, dist_by_trip_mode]\n",
    "    mode_df = reduce(lambda left,right: pd.merge(left,right,on='mode'), df_list)\n",
    "\n",
    "    # add dataset name\n",
    "    mode_df['source'] = dataset['name']\n",
    "    \n",
    "    return mode_df"
   ]
  },
  {
   "cell_type": "code",
   "execution_count": 509,
   "metadata": {
    "collapsed": true
   },
   "outputs": [],
   "source": [
    "def district_summary(dataset):\n",
    "    \n",
    "    \n",
    "    # Trips by Destination District\n",
    "    trip_district = pd.merge(trip[['dtaz','trexpfac']],districts,left_on='dtaz',right_on='taz')\n",
    "    trip_district_df = pd.DataFrame(trip_district.groupby('district_name')['trexpfac'].sum())\n",
    "    trip_district_df.rename(columns={'trexpfac':'trips'},inplace=True)\n",
    "    trip_district_df.reset_index(inplace=True)\n",
    "\n",
    "    # Tours by Destination District\n",
    "    tour_district = pd.merge(tour[['tdtaz','toexpfac']],districts,left_on='tdtaz',right_on='taz')\n",
    "    tour_district_df = pd.DataFrame(tour_district.groupby('district_name')['toexpfac'].sum())\n",
    "    tour_district_df.rename(columns={'toexpfac':'tours'},inplace=True)\n",
    "    tour_district_df.reset_index(inplace=True)\n",
    "\n",
    "    # Residents by District\n",
    "    hh_per_district = pd.merge(hh[['hhtaz','hhsize','hhexpfac','hhno']], districts, left_on='hhtaz', right_on='taz')\n",
    "\n",
    "    hh_per_district['wt_hhsize'] = hh_per_district['hhsize']*hh_per_district['hhexpfac']\n",
    "    residents_df = pd.DataFrame(hh_per_district.groupby('district_name').sum()['wt_hhsize'])\n",
    "    residents_df.rename(columns={'wt_hhsize':'residents'},inplace=True)\n",
    "    residents_df.reset_index(inplace=True)\n",
    "\n",
    "    # Merge these all together\n",
    "    df_list = [trip_district_df, tour_district_df, residents_df]\n",
    "    district_df = reduce(lambda left,right: pd.merge(left,right,on='district_name'), df_list)\n",
    "\n",
    "    # add dataset name\n",
    "    district_df['source'] = dataset['name']\n",
    "    \n",
    "    return district_df"
   ]
  },
  {
   "cell_type": "code",
   "execution_count": 544,
   "metadata": {
    "collapsed": false
   },
   "outputs": [],
   "source": [
    "def network_results(model_dir, dataset_name):\n",
    "    '''\n",
    "    Process network-level soundcast results and export to csv\n",
    "    '''\n",
    "    \n",
    "    df = pd.read_excel(os.path.join(model_dir,r'outputs/network_summary_detailed.xlsx'), sheetname='Network Summary')\n",
    "    df = pd.DataFrame(df.stack())\n",
    "    df['tod']= df.index.get_level_values(0)\n",
    "    df['fieldname'] = df.index.get_level_values(1)\n",
    "    df.rename(columns={0:'model_value'},inplace=True)\n",
    "    df.reset_index(inplace=True, drop=True)\n",
    "    \n",
    "    # Drop the rows with TP_4k column headers\n",
    "    df.drop(df[df['fieldname'] == 'TP_4k'].index, inplace=True)\n",
    "    \n",
    "    # Split the fields by vmt, vht, delay\n",
    "    df['facility_type'] = df.fieldname.apply(lambda row: row.split('_')[0])\n",
    "    df['metric'] = df.fieldname.apply(lambda row: row.split('_')[-1])\n",
    "\n",
    "    # add dataset name\n",
    "    df['source'] = dataset_name\n",
    "    \n",
    "    return df\n"
   ]
  },
  {
   "cell_type": "code",
   "execution_count": null,
   "metadata": {
    "collapsed": true
   },
   "outputs": [],
   "source": []
  },
  {
   "cell_type": "code",
   "execution_count": null,
   "metadata": {
    "collapsed": true
   },
   "outputs": [],
   "source": []
  },
  {
   "cell_type": "code",
   "execution_count": null,
   "metadata": {
    "collapsed": true
   },
   "outputs": [],
   "source": []
  },
  {
   "cell_type": "code",
   "execution_count": 529,
   "metadata": {
    "collapsed": false
   },
   "outputs": [
    {
     "data": {
      "text/html": [
       "<div style=\"max-height:1000px;max-width:1500px;overflow:auto;\">\n",
       "<table border=\"1\" class=\"dataframe\">\n",
       "  <thead>\n",
       "    <tr style=\"text-align: right;\">\n",
       "      <th></th>\n",
       "      <th>arrtm</th>\n",
       "      <th>dadtyp</th>\n",
       "      <th>day</th>\n",
       "      <th>deptm</th>\n",
       "      <th>dorp</th>\n",
       "      <th>dpcl</th>\n",
       "      <th>dtaz</th>\n",
       "      <th>endacttm</th>\n",
       "      <th>half</th>\n",
       "      <th>hhno</th>\n",
       "      <th>...</th>\n",
       "      <th>pathtype</th>\n",
       "      <th>pno</th>\n",
       "      <th>tour</th>\n",
       "      <th>travcost</th>\n",
       "      <th>travdist</th>\n",
       "      <th>travtime</th>\n",
       "      <th>trexpfac</th>\n",
       "      <th>tseg</th>\n",
       "      <th>tsvid</th>\n",
       "      <th>travdist_wt</th>\n",
       "    </tr>\n",
       "    <tr>\n",
       "      <th>dpurp</th>\n",
       "      <th></th>\n",
       "      <th></th>\n",
       "      <th></th>\n",
       "      <th></th>\n",
       "      <th></th>\n",
       "      <th></th>\n",
       "      <th></th>\n",
       "      <th></th>\n",
       "      <th></th>\n",
       "      <th></th>\n",
       "      <th></th>\n",
       "      <th></th>\n",
       "      <th></th>\n",
       "      <th></th>\n",
       "      <th></th>\n",
       "      <th></th>\n",
       "      <th></th>\n",
       "      <th></th>\n",
       "      <th></th>\n",
       "      <th></th>\n",
       "      <th></th>\n",
       "    </tr>\n",
       "  </thead>\n",
       "  <tbody>\n",
       "    <tr>\n",
       "      <th>Change Mode Inserted Purpose</th>\n",
       "      <td>   271</td>\n",
       "      <td>   271</td>\n",
       "      <td>   271</td>\n",
       "      <td>   271</td>\n",
       "      <td>   271</td>\n",
       "      <td>   271</td>\n",
       "      <td>   271</td>\n",
       "      <td>   271</td>\n",
       "      <td>   271</td>\n",
       "      <td>   271</td>\n",
       "      <td>...</td>\n",
       "      <td>   271</td>\n",
       "      <td>   271</td>\n",
       "      <td>   271</td>\n",
       "      <td>   271</td>\n",
       "      <td>   271</td>\n",
       "      <td>   271</td>\n",
       "      <td>   271</td>\n",
       "      <td>   271</td>\n",
       "      <td>   271</td>\n",
       "      <td>   271</td>\n",
       "    </tr>\n",
       "    <tr>\n",
       "      <th>Escort</th>\n",
       "      <td>  2930</td>\n",
       "      <td>  2930</td>\n",
       "      <td>  2930</td>\n",
       "      <td>  2930</td>\n",
       "      <td>  2706</td>\n",
       "      <td>  2930</td>\n",
       "      <td>  2930</td>\n",
       "      <td>  2930</td>\n",
       "      <td>  2930</td>\n",
       "      <td>  2930</td>\n",
       "      <td>...</td>\n",
       "      <td>  2930</td>\n",
       "      <td>  2930</td>\n",
       "      <td>  2930</td>\n",
       "      <td>  2930</td>\n",
       "      <td>  2930</td>\n",
       "      <td>  2930</td>\n",
       "      <td>  2930</td>\n",
       "      <td>  2930</td>\n",
       "      <td>  2930</td>\n",
       "      <td>  2930</td>\n",
       "    </tr>\n",
       "    <tr>\n",
       "      <th>Meal</th>\n",
       "      <td>  3272</td>\n",
       "      <td>  3272</td>\n",
       "      <td>  3272</td>\n",
       "      <td>  3272</td>\n",
       "      <td>  1736</td>\n",
       "      <td>  3272</td>\n",
       "      <td>  3272</td>\n",
       "      <td>  3272</td>\n",
       "      <td>  3272</td>\n",
       "      <td>  3272</td>\n",
       "      <td>...</td>\n",
       "      <td>  3272</td>\n",
       "      <td>  3272</td>\n",
       "      <td>  3272</td>\n",
       "      <td>  3272</td>\n",
       "      <td>  3272</td>\n",
       "      <td>  3272</td>\n",
       "      <td>  3272</td>\n",
       "      <td>  3272</td>\n",
       "      <td>  3272</td>\n",
       "      <td>  3272</td>\n",
       "    </tr>\n",
       "    <tr>\n",
       "      <th>None/Home</th>\n",
       "      <td> 18364</td>\n",
       "      <td> 18364</td>\n",
       "      <td> 18364</td>\n",
       "      <td> 18364</td>\n",
       "      <td> 11674</td>\n",
       "      <td> 18364</td>\n",
       "      <td> 18364</td>\n",
       "      <td> 18364</td>\n",
       "      <td> 18364</td>\n",
       "      <td> 18364</td>\n",
       "      <td>...</td>\n",
       "      <td> 18364</td>\n",
       "      <td> 18364</td>\n",
       "      <td> 18364</td>\n",
       "      <td> 18364</td>\n",
       "      <td> 18364</td>\n",
       "      <td> 18364</td>\n",
       "      <td> 18364</td>\n",
       "      <td> 18364</td>\n",
       "      <td> 18364</td>\n",
       "      <td> 18364</td>\n",
       "    </tr>\n",
       "    <tr>\n",
       "      <th>Personal Business</th>\n",
       "      <td>  5392</td>\n",
       "      <td>  5392</td>\n",
       "      <td>  5392</td>\n",
       "      <td>  5392</td>\n",
       "      <td>  4014</td>\n",
       "      <td>  5392</td>\n",
       "      <td>  5392</td>\n",
       "      <td>  5392</td>\n",
       "      <td>  5392</td>\n",
       "      <td>  5392</td>\n",
       "      <td>...</td>\n",
       "      <td>  5392</td>\n",
       "      <td>  5392</td>\n",
       "      <td>  5392</td>\n",
       "      <td>  5392</td>\n",
       "      <td>  5392</td>\n",
       "      <td>  5392</td>\n",
       "      <td>  5392</td>\n",
       "      <td>  5392</td>\n",
       "      <td>  5392</td>\n",
       "      <td>  5392</td>\n",
       "    </tr>\n",
       "    <tr>\n",
       "      <th>School</th>\n",
       "      <td>  4356</td>\n",
       "      <td>  4356</td>\n",
       "      <td>  4356</td>\n",
       "      <td>  4356</td>\n",
       "      <td>  1042</td>\n",
       "      <td>  4356</td>\n",
       "      <td>  4356</td>\n",
       "      <td>  4356</td>\n",
       "      <td>  4356</td>\n",
       "      <td>  4356</td>\n",
       "      <td>...</td>\n",
       "      <td>  4356</td>\n",
       "      <td>  4356</td>\n",
       "      <td>  4356</td>\n",
       "      <td>  4356</td>\n",
       "      <td>  4356</td>\n",
       "      <td>  4356</td>\n",
       "      <td>  4356</td>\n",
       "      <td>  4356</td>\n",
       "      <td>  4356</td>\n",
       "      <td>  4356</td>\n",
       "    </tr>\n",
       "    <tr>\n",
       "      <th>Shop</th>\n",
       "      <td>  6152</td>\n",
       "      <td>  6152</td>\n",
       "      <td>  6152</td>\n",
       "      <td>  6152</td>\n",
       "      <td>  4547</td>\n",
       "      <td>  6152</td>\n",
       "      <td>  6152</td>\n",
       "      <td>  6152</td>\n",
       "      <td>  6152</td>\n",
       "      <td>  6152</td>\n",
       "      <td>...</td>\n",
       "      <td>  6152</td>\n",
       "      <td>  6152</td>\n",
       "      <td>  6152</td>\n",
       "      <td>  6152</td>\n",
       "      <td>  6152</td>\n",
       "      <td>  6152</td>\n",
       "      <td>  6152</td>\n",
       "      <td>  6152</td>\n",
       "      <td>  6152</td>\n",
       "      <td>  6152</td>\n",
       "    </tr>\n",
       "    <tr>\n",
       "      <th>Social</th>\n",
       "      <td>  5320</td>\n",
       "      <td>  5320</td>\n",
       "      <td>  5320</td>\n",
       "      <td>  5320</td>\n",
       "      <td>  2835</td>\n",
       "      <td>  5320</td>\n",
       "      <td>  5320</td>\n",
       "      <td>  5320</td>\n",
       "      <td>  5320</td>\n",
       "      <td>  5320</td>\n",
       "      <td>...</td>\n",
       "      <td>  5320</td>\n",
       "      <td>  5320</td>\n",
       "      <td>  5320</td>\n",
       "      <td>  5320</td>\n",
       "      <td>  5320</td>\n",
       "      <td>  5320</td>\n",
       "      <td>  5320</td>\n",
       "      <td>  5320</td>\n",
       "      <td>  5320</td>\n",
       "      <td>  5320</td>\n",
       "    </tr>\n",
       "    <tr>\n",
       "      <th>Work</th>\n",
       "      <td>  8043</td>\n",
       "      <td>  8043</td>\n",
       "      <td>  8043</td>\n",
       "      <td>  8043</td>\n",
       "      <td>  5213</td>\n",
       "      <td>  8043</td>\n",
       "      <td>  8043</td>\n",
       "      <td>  8043</td>\n",
       "      <td>  8043</td>\n",
       "      <td>  8043</td>\n",
       "      <td>...</td>\n",
       "      <td>  8043</td>\n",
       "      <td>  8043</td>\n",
       "      <td>  8043</td>\n",
       "      <td>  8043</td>\n",
       "      <td>  8043</td>\n",
       "      <td>  8043</td>\n",
       "      <td>  8043</td>\n",
       "      <td>  8043</td>\n",
       "      <td>  8043</td>\n",
       "      <td>  8043</td>\n",
       "    </tr>\n",
       "  </tbody>\n",
       "</table>\n",
       "<p>9 rows × 26 columns</p>\n",
       "</div>"
      ],
      "text/plain": [
       "                              arrtm  dadtyp    day  deptm   dorp   dpcl  \\\n",
       "dpurp                                                                     \n",
       "Change Mode Inserted Purpose    271     271    271    271    271    271   \n",
       "Escort                         2930    2930   2930   2930   2706   2930   \n",
       "Meal                           3272    3272   3272   3272   1736   3272   \n",
       "None/Home                     18364   18364  18364  18364  11674  18364   \n",
       "Personal Business              5392    5392   5392   5392   4014   5392   \n",
       "School                         4356    4356   4356   4356   1042   4356   \n",
       "Shop                           6152    6152   6152   6152   4547   6152   \n",
       "Social                         5320    5320   5320   5320   2835   5320   \n",
       "Work                           8043    8043   8043   8043   5213   8043   \n",
       "\n",
       "                               dtaz  endacttm   half   hhno     ...       \\\n",
       "dpurp                                                           ...        \n",
       "Change Mode Inserted Purpose    271       271    271    271     ...        \n",
       "Escort                         2930      2930   2930   2930     ...        \n",
       "Meal                           3272      3272   3272   3272     ...        \n",
       "None/Home                     18364     18364  18364  18364     ...        \n",
       "Personal Business              5392      5392   5392   5392     ...        \n",
       "School                         4356      4356   4356   4356     ...        \n",
       "Shop                           6152      6152   6152   6152     ...        \n",
       "Social                         5320      5320   5320   5320     ...        \n",
       "Work                           8043      8043   8043   8043     ...        \n",
       "\n",
       "                              pathtype    pno   tour  travcost  travdist  \\\n",
       "dpurp                                                                      \n",
       "Change Mode Inserted Purpose       271    271    271       271       271   \n",
       "Escort                            2930   2930   2930      2930      2930   \n",
       "Meal                              3272   3272   3272      3272      3272   \n",
       "None/Home                        18364  18364  18364     18364     18364   \n",
       "Personal Business                 5392   5392   5392      5392      5392   \n",
       "School                            4356   4356   4356      4356      4356   \n",
       "Shop                              6152   6152   6152      6152      6152   \n",
       "Social                            5320   5320   5320      5320      5320   \n",
       "Work                              8043   8043   8043      8043      8043   \n",
       "\n",
       "                              travtime  trexpfac   tseg  tsvid  travdist_wt  \n",
       "dpurp                                                                        \n",
       "Change Mode Inserted Purpose       271       271    271    271          271  \n",
       "Escort                            2930      2930   2930   2930         2930  \n",
       "Meal                              3272      3272   3272   3272         3272  \n",
       "None/Home                        18364     18364  18364  18364        18364  \n",
       "Personal Business                 5392      5392   5392   5392         5392  \n",
       "School                            4356      4356   4356   4356         4356  \n",
       "Shop                              6152      6152   6152   6152         6152  \n",
       "Social                            5320      5320   5320   5320         5320  \n",
       "Work                              8043      8043   8043   8043         8043  \n",
       "\n",
       "[9 rows x 26 columns]"
      ]
     },
     "execution_count": 529,
     "metadata": {},
     "output_type": "execute_result"
    }
   ],
   "source": [
    "survey['Trip'].groupby('dpurp').count()"
   ]
  },
  {
   "cell_type": "code",
   "execution_count": 528,
   "metadata": {
    "collapsed": false
   },
   "outputs": [
    {
     "data": {
      "text/plain": [
       "dpurp\n",
       "Change Mode Inserted Purpose      78026\n",
       "Escort                          1724201\n",
       "Meal                            1036412\n",
       "None/Home                       5225334\n",
       "Personal Business               2078084\n",
       "School                           953771\n",
       "Shop                             815752\n",
       "Social                          1326037\n",
       "Work                            2160159\n",
       "Name: id, dtype: int64"
      ]
     },
     "execution_count": 528,
     "metadata": {},
     "output_type": "execute_result"
    }
   ],
   "source": [
    "daysim['Trip'].groupby('dpurp')['id'].count()"
   ]
  },
  {
   "cell_type": "code",
   "execution_count": 200,
   "metadata": {
    "collapsed": false
   },
   "outputs": [],
   "source": [
    "# # Add unique person ID \n",
    "# survey['Trip']['unique_id'] = survey['Trip']['hhno'].astype('str') + '_' + survey['Trip']['pno'].astype('str')\n",
    "# survey['Person']['unique_id'] = survey['Person']['hhno'].astype('str') + '_' + survey['Person']['pno'].astype('str')\n",
    "\n",
    "# daysim['Trip']['unique_id'] = daysim['Trip']['hhno'].astype('str') + '_' + daysim['Trip']['pno'].astype('str')\n",
    "# daysim['Person']['unique_id'] = daysim['Person']['hhno'].astype('str') + '_' + daysim['Person']['pno'].astype('str')"
   ]
  },
  {
   "cell_type": "markdown",
   "metadata": {},
   "source": [
    "## Add Labels"
   ]
  },
  {
   "cell_type": "code",
   "execution_count": 201,
   "metadata": {
    "collapsed": false
   },
   "outputs": [],
   "source": []
  },
  {
   "cell_type": "markdown",
   "metadata": {},
   "source": [
    "## Define dataset\n",
    "- model or observed"
   ]
  },
  {
   "cell_type": "code",
   "execution_count": 439,
   "metadata": {
    "collapsed": true
   },
   "outputs": [],
   "source": [
    "# dataset = daysim\n",
    "dataset = survey\n"
   ]
  },
  {
   "cell_type": "code",
   "execution_count": null,
   "metadata": {
    "collapsed": false
   },
   "outputs": [],
   "source": []
  },
  {
   "cell_type": "markdown",
   "metadata": {},
   "source": [
    "## Aggregate Measures\n",
    " - total persons, households, avg household size, avg trips/person, vmt per person, avg distance to work, avg distance to school"
   ]
  },
  {
   "cell_type": "code",
   "execution_count": 203,
   "metadata": {
    "collapsed": true
   },
   "outputs": [],
   "source": [
    "df = pd.DataFrame()\n",
    "\n",
    "# Total Persons\n",
    "df = add_row(df, row_name='total_persons', description='Total Persons', value=dataset['Person']['psexpfac'].sum())\n",
    "\n",
    "# Total Households\n",
    "df = add_row(df, row_name='total_hhs', description='Total Households', value=dataset['Household']['hhexpfac'].sum())\n",
    "\n",
    "# Average Household Size\n",
    "avg_hh_size = (dataset['Household']['hhsize']*dataset['Household']['hhexpfac']).sum()/dataset['Household']['hhexpfac'].sum()\n",
    "df = add_row(df, row_name='avg_hh_size', description='Average Household Size', value=avg_hh_size)\n",
    "\n",
    "# Average Trips per Person\n",
    "trips_per_person = dataset['Trip']['trexpfac'].sum()/dataset['Person']['psexpfac'].sum()\n",
    "df = add_row(df, row_name='trips_per_person', description='Average Trips per Person', value=trips_per_person)\n",
    "\n",
    "# Average Trip Length\n",
    "trip_len = (dataset['Trip']['travdist']*dataset['Trip']['trexpfac']).sum()/dataset['Trip']['trexpfac'].sum()\n",
    "df = add_row(df, row_name='trip_len', description='Average Trips Length', value=trip_len)\n",
    "\n",
    "# VMT per capita\n",
    "driver_trips = dataset['Trip'][dataset['Trip']['dorp'] == 'Driver']\n",
    "vmt_per_cap = (driver_trips['travdist']*driver_trips['trexpfac']).sum()/dataset['Person']['psexpfac'].sum()\n",
    "df = add_row(df, row_name='vmt_per_cap', description='VMT per Person', value=vmt_per_cap)\n",
    "\n",
    "# Average distance to work\n",
    "to_work_tours = dataset['Tour'][dataset['Tour']['pdpurp'] == 'Work']\n",
    "dist_to_work = (to_work_tours['tautodist']*to_work_tours['toexpfac']).sum()/to_work_tours['toexpfac'].sum()\n",
    "df = add_row(df, row_name='dist_to_work', description='Avg Distance to Work', value=dist_to_work)\n",
    "\n",
    "# Average distance to school\n",
    "to_school_tours = dataset['Tour'][dataset['Tour']['pdpurp'] == 'School']\n",
    "dist_to_school = (to_school_tours['tautodist']*to_school_tours['toexpfac']).sum()/to_school_tours['toexpfac'].sum()\n",
    "df = add_row(df, row_name='dist_to_school', description='Avg Distance to School', value=dist_to_school)\n",
    "\n",
    "# Transit Pass Ownership\n",
    "# Total Boardings\n",
    "# Total Workers\n",
    "# % workers working at home\n",
    "# work-at-home workers"
   ]
  },
  {
   "cell_type": "markdown",
   "metadata": {},
   "source": [
    "## Destination Choice Report\n",
    "\n"
   ]
  },
  {
   "cell_type": "code",
   "execution_count": 440,
   "metadata": {
    "collapsed": false
   },
   "outputs": [],
   "source": [
    "tour = dataset['Tour']\n",
    "trip = dataset['Trip']\n",
    "hh = dataset['Household']\n",
    "person = dataset['Person']"
   ]
  },
  {
   "cell_type": "markdown",
   "metadata": {},
   "source": [
    "## Results by Trip/Tour Purpose\n",
    "- distance by tour purpose\n",
    "- distance by trip purpose\n",
    "- trips per tour by tour purpose\n",
    "- number of tours by purpose\n",
    "- tour mode share\n",
    "- trip mode share"
   ]
  },
  {
   "cell_type": "code",
   "execution_count": null,
   "metadata": {
    "collapsed": true
   },
   "outputs": [],
   "source": [
    "# Tour distance by purpose\n",
    "tour['tautodist_wt'] = tour['toexpfac']*tour['tautodist']\n",
    "dist_by_tour_purp = pd.DataFrame(tour.groupby('pdpurp').sum()['tautodist_wt']/tour.groupby('pdpurp').sum()['toexpfac'],\n",
    "                                columns=['dist_by_tour_purp'])\n",
    "dist_by_tour_purp['purpose'] = dist_by_tour_purp.index\n",
    "\n",
    "# Trip distance by purpose\n",
    "trip['travdist_wt'] = trip['trexpfac']*trip['travdist']\n",
    "dist_by_trip_purp = pd.DataFrame(trip.groupby('dpurp').sum()['travdist_wt']/trip.groupby('dpurp').sum()['trexpfac'],\n",
    "                                columns=['dist_by_trip_purp'])\n",
    "dist_by_trip_purp['purpose'] = dist_by_trip_purp.index\n",
    "\n",
    "# number of total tours generated by purpose\n",
    "total_tours = pd.DataFrame(tour.groupby('pdpurp').sum()['toexpfac'])\n",
    "total_tours.rename(columns={'toexpfac':'total_tours'},inplace=True)\n",
    "total_tours['purpose'] = total_tours.index\n",
    "total_tours.reset_index(inplace=True, drop=True)\n",
    "\n",
    "# trip mode share\n",
    "trips_by_mode = pd.pivot_table(trip,values='trexpfac',index='dpurp',columns='mode',aggfunc='sum')\n",
    "trips_by_mode.columns = [i+'_trips' for i in trips_by_mode.columns]\n",
    "trips_by_mode['purpose'] = trips_by_mode.index\n",
    "trips_by_mode.reset_index(inplace=True, drop=True)\n",
    "\n",
    "# tour mode share\n",
    "tours_by_mode = pd.pivot_table(tour,values='toexpfac',index='pdpurp',columns='tmodetp',aggfunc='sum')\n",
    "tours_by_mode.columns = [i+'_tours' for i in tours_by_mode.columns]\n",
    "tours_by_mode['purpose'] = tours_by_mode.index\n",
    "tours_by_mode.reset_index(inplace=True, drop=True)\n",
    "\n",
    "# merge all dataframes with data by purpose\n",
    "df_list = [dist_by_tour_purp, dist_by_trip_purp, total_tours, tours_by_mode, trips_by_mode]\n",
    "purpose_df = reduce(lambda left,right: pd.merge(left,right,on='purpose'), df_list)\n",
    "\n",
    "# add field specif\n",
    "purpose_df['source'] = dataset['name']\n",
    "purpose_df.to_csv(dataset['name'] + '_' + 'purpose_df.csv')"
   ]
  },
  {
   "cell_type": "markdown",
   "metadata": {},
   "source": [
    "## Results By Mode\n",
    "- distance by tour mode\n",
    "- trips per tour by tour mode\n",
    "- trip mode by tour mode\n",
    "- number of tours by mode\n",
    "- travel time by mode"
   ]
  },
  {
   "cell_type": "code",
   "execution_count": 441,
   "metadata": {
    "collapsed": false
   },
   "outputs": [],
   "source": [
    "# Tour distance by purpose\n",
    "tour['tautodist_wt'] = tour['toexpfac']*tour['tautodist']\n",
    "dist_by_tour_mode = pd.DataFrame(tour.groupby('tmodetp').sum()['tautodist_wt']/tour.groupby('tmodetp').sum()['toexpfac'],\n",
    "                                columns=['dist_by_tour_mode'])\n",
    "dist_by_tour_mode['mode'] = dist_by_tour_mode.index\n",
    "\n",
    "# Trip distance by purpose\n",
    "trip['travdist_wt'] = trip['trexpfac']*trip['travdist']\n",
    "dist_by_trip_mode = pd.DataFrame(trip.groupby('mode').sum()['travdist_wt']/trip.groupby('mode').sum()['trexpfac'],\n",
    "                                columns=['dist_by_trip_mode'])\n",
    "dist_by_trip_mode['mode'] = dist_by_trip_mode.index\n",
    "\n",
    "# merge all dataframes with data by purpose\n",
    "df_list = [dist_by_tour_mode, dist_by_trip_mode]\n",
    "mode_df = reduce(lambda left,right: pd.merge(left,right,on='mode'), df_list)\n",
    "\n",
    "# add field specif\n",
    "mode_df['source'] = dataset['name']\n",
    "mode_df.to_csv(dataset['name'] + '_' + 'mode_df.csv')"
   ]
  },
  {
   "cell_type": "markdown",
   "metadata": {},
   "source": [
    "## Results By District\n",
    "- tours by destination district\n",
    "- trips by destination district\n",
    "- residents by district"
   ]
  },
  {
   "cell_type": "code",
   "execution_count": 424,
   "metadata": {
    "collapsed": false
   },
   "outputs": [],
   "source": [
    "# Trips by Destination District\n",
    "trip_district = pd.merge(trip[['dtaz','trexpfac']],districts,left_on='dtaz',right_on='taz')\n",
    "trip_district_df = pd.DataFrame(trip_district.groupby('district_name')['trexpfac'].sum())\n",
    "trip_district_df.rename(columns={'trexpfac':'trips'},inplace=True)\n",
    "trip_district_df.reset_index(inplace=True)\n",
    "\n",
    "# Tours by Destination District\n",
    "tour_district = pd.merge(tour[['tdtaz','toexpfac']],districts,left_on='tdtaz',right_on='taz')\n",
    "tour_district_df = pd.DataFrame(tour_district.groupby('district_name')['toexpfac'].sum())\n",
    "tour_district_df.rename(columns={'toexpfac':'tours'},inplace=True)\n",
    "tour_district_df.reset_index(inplace=True)\n",
    "\n",
    "# Residents by District\n",
    "hh_per_district = pd.merge(hh[['hhtaz','hhsize','hhexpfac','hhno']], districts, left_on='hhtaz', right_on='taz')\n",
    "\n",
    "hh_per_district['wt_hhsize'] = hh_per_district['hhsize']*hh_per_district['hhexpfac']\n",
    "residents_df = pd.DataFrame(hh_per_district.groupby('district_name').sum()['wt_hhsize'])\n",
    "residents_df.rename(columns={'wt_hhsize':'residents'},inplace=True)\n",
    "residents_df.reset_index(inplace=True)\n",
    "\n",
    "# Merge these all together\n",
    "df_list = [trip_district_df, tour_district_df, residents_df]\n",
    "district_df = reduce(lambda left,right: pd.merge(left,right,on='district_name'), df_list)\n",
    "\n",
    "# add dataset name\n",
    "district_df['source'] = dataset['name']"
   ]
  },
  {
   "cell_type": "markdown",
   "metadata": {},
   "source": [
    "# Network Summary"
   ]
  },
  {
   "cell_type": "code",
   "execution_count": 425,
   "metadata": {
    "collapsed": false
   },
   "outputs": [],
   "source": [
    "net_summary_df = pd.read_excel(r'J:\\Projects\\Soundcast\\network_summary_detailed.xlsx', sheetname='Network Summary')\n",
    "df = pd.DataFrame(net_summary_df.stack())\n",
    "df['tod']= df.index.get_level_values(0)\n",
    "df['fieldname'] = df.index.get_level_values(1)\n",
    "df.rename(columns={0:'model_value'},inplace=True)\n",
    "df.reset_index(inplace=True, drop=True)\n",
    "# Drop the rows with TP_4k column headers\n",
    "df.drop(df[df['fieldname'] == 'TP_4k'].index, inplace=True)\n",
    "# Split the fields by vmt, vht, delay\n",
    "df['facility_type'] = df.fieldname.apply(lambda row: row.split('_')[0])\n",
    "df['metric'] = df.fieldname.apply(lambda row: row.split('_')[-1])"
   ]
  },
  {
   "cell_type": "code",
   "execution_count": 426,
   "metadata": {
    "collapsed": false
   },
   "outputs": [],
   "source": []
  },
  {
   "cell_type": "code",
   "execution_count": 363,
   "metadata": {
    "collapsed": false
   },
   "outputs": [],
   "source": []
  },
  {
   "cell_type": "code",
   "execution_count": 446,
   "metadata": {
    "collapsed": true
   },
   "outputs": [],
   "source": []
  },
  {
   "cell_type": "markdown",
   "metadata": {},
   "source": [
    "## Time of Day"
   ]
  },
  {
   "cell_type": "code",
   "execution_count": null,
   "metadata": {
    "collapsed": true
   },
   "outputs": [],
   "source": []
  }
 ],
 "metadata": {
  "kernelspec": {
   "display_name": "Python 2",
   "language": "python",
   "name": "python2"
  },
  "language_info": {
   "codemirror_mode": {
    "name": "ipython",
    "version": 2
   },
   "file_extension": ".py",
   "mimetype": "text/x-python",
   "name": "python",
   "nbconvert_exporter": "python",
   "pygments_lexer": "ipython2",
   "version": "2.7.9"
  }
 },
 "nbformat": 4,
 "nbformat_minor": 0
}
