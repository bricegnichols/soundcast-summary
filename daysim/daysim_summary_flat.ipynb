{
 "cells": [
  {
   "cell_type": "markdown",
   "metadata": {},
   "source": [
    "- produce csv output summary of daysim results for use in tableau and other sources"
   ]
  },
  {
   "cell_type": "code",
   "execution_count": 63,
   "metadata": {
    "collapsed": true
   },
   "outputs": [],
   "source": [
    "import pandas as pd\n",
    "import h5py\n",
    "% matplotlib inline"
   ]
  },
  {
   "cell_type": "code",
   "execution_count": 197,
   "metadata": {
    "collapsed": true
   },
   "outputs": [],
   "source": [
    "survey_h5 = h5py.File(r'R:\\SoundCast\\Inputs\\2014\\etc\\survey.h5')\n",
    "daysim_h5 = h5py.File(r'R:\\SoundCast\\releases\\TransportationFutures2010\\outputs\\daysim_outputs.h5')\n",
    "\n",
    "scenario_name = 'new_run'"
   ]
  },
  {
   "cell_type": "code",
   "execution_count": 198,
   "metadata": {
    "collapsed": true
   },
   "outputs": [],
   "source": [
    "def h5_to_df(h5file, table_list, name=False):\n",
    "    \"\"\"\n",
    "    Load h5-formatted data based on a table list. Assumes heirarchy of a set of tables.\n",
    "    \"\"\"\n",
    "    output_dict = {}\n",
    "    \n",
    "    for table in table_list:\n",
    "        df = pd.DataFrame()\n",
    "        for field in h5file[table].keys():\n",
    "            df[field] = h5file[table][field][:]\n",
    "            \n",
    "        output_dict[table] = df\n",
    "    \n",
    "    if name:\n",
    "        output_dict['name'] = name\n",
    "    \n",
    "    return output_dict"
   ]
  },
  {
   "cell_type": "code",
   "execution_count": 199,
   "metadata": {
    "collapsed": false
   },
   "outputs": [],
   "source": [
    "survey = h5_to_df(survey_h5, table_list=['Household','Trip','Tour','Person','HouseholdDay'], name='survey')\n",
    "daysim = h5_to_df(daysim_h5, table_list=['Household','Trip','Tour','Person','HouseholdDay'], name=scenario_name)"
   ]
  },
  {
   "cell_type": "code",
   "execution_count": 200,
   "metadata": {
    "collapsed": false
   },
   "outputs": [],
   "source": [
    "# # Add unique person ID \n",
    "# survey['Trip']['unique_id'] = survey['Trip']['hhno'].astype('str') + '_' + survey['Trip']['pno'].astype('str')\n",
    "# survey['Person']['unique_id'] = survey['Person']['hhno'].astype('str') + '_' + survey['Person']['pno'].astype('str')\n",
    "\n",
    "# daysim['Trip']['unique_id'] = daysim['Trip']['hhno'].astype('str') + '_' + daysim['Trip']['pno'].astype('str')\n",
    "# daysim['Person']['unique_id'] = daysim['Person']['hhno'].astype('str') + '_' + daysim['Person']['pno'].astype('str')"
   ]
  },
  {
   "cell_type": "markdown",
   "metadata": {},
   "source": [
    "## Add Labels"
   ]
  },
  {
   "cell_type": "code",
   "execution_count": 201,
   "metadata": {
    "collapsed": false
   },
   "outputs": [],
   "source": [
    "# apply labels all based on table, field, and value\n",
    "labels = pd.read_csv(r'variable_labels.csv')\n",
    "labels_applied=False\n",
    "# Only run this once, set labels_applied = False in loading \n",
    "if not labels_applied:\n",
    "    for table in labels['table'].unique():\n",
    "        df = labels[labels['table'] == table]\n",
    "        for field in df['field'].unique():\n",
    "            newdf = df[df['field'] == field]\n",
    "            local_series = pd.Series(newdf['text'].values, index=newdf['value'])\n",
    "            survey[table][field] = survey[table][field].map(local_series)\n",
    "            daysim[table][field] = daysim[table][field].map(local_series)\n",
    "\n",
    "# Only run this once\n",
    "labels_applied = True"
   ]
  },
  {
   "cell_type": "markdown",
   "metadata": {},
   "source": [
    "## Define dataset\n",
    "- model or observed"
   ]
  },
  {
   "cell_type": "code",
   "execution_count": 202,
   "metadata": {
    "collapsed": true
   },
   "outputs": [],
   "source": [
    "dataset = daysim\n",
    "# dataset = survey\n"
   ]
  },
  {
   "cell_type": "markdown",
   "metadata": {},
   "source": [
    "## Aggregate Measures\n",
    " - total persons, households, avg household size, avg trips/person, vmt per person, avg distance to work, avg distance to school"
   ]
  },
  {
   "cell_type": "code",
   "execution_count": 203,
   "metadata": {
    "collapsed": true
   },
   "outputs": [],
   "source": [
    "df = pd.DataFrame()"
   ]
  },
  {
   "cell_type": "code",
   "execution_count": 204,
   "metadata": {
    "collapsed": false
   },
   "outputs": [],
   "source": [
    "def add_row(df, row_name, description, value):\n",
    "    df.ix[row_name,'description'] = description\n",
    "    df.ix[row_name,'value'] = value\n",
    "    \n",
    "    return df"
   ]
  },
  {
   "cell_type": "code",
   "execution_count": 205,
   "metadata": {
    "collapsed": false
   },
   "outputs": [],
   "source": [
    "# Total Persons\n",
    "df = add_row(df, row_name='total_persons', description='Total Persons', value=dataset['Person']['psexpfac'].sum())"
   ]
  },
  {
   "cell_type": "code",
   "execution_count": 206,
   "metadata": {
    "collapsed": false
   },
   "outputs": [],
   "source": [
    "# Total Households\n",
    "df = add_row(df, row_name='total_hhs', description='Total Households', value=dataset['Household']['hhexpfac'].sum())"
   ]
  },
  {
   "cell_type": "code",
   "execution_count": 207,
   "metadata": {
    "collapsed": false
   },
   "outputs": [],
   "source": [
    "# Average Household Size\n",
    "avg_hh_size = (dataset['Household']['hhsize']*dataset['Household']['hhexpfac']).sum()/dataset['Household']['hhexpfac'].sum()\n",
    "df = add_row(df, row_name='avg_hh_size', description='Average Household Size', value=avg_hh_size)"
   ]
  },
  {
   "cell_type": "code",
   "execution_count": 208,
   "metadata": {
    "collapsed": false
   },
   "outputs": [],
   "source": [
    "# Average Trips per Person\n",
    "trips_per_person = dataset['Trip']['trexpfac'].sum()/dataset['Person']['psexpfac'].sum()\n",
    "df = add_row(df, row_name='trips_per_person', description='Average Trips per Person', value=trips_per_person)"
   ]
  },
  {
   "cell_type": "code",
   "execution_count": 209,
   "metadata": {
    "collapsed": false
   },
   "outputs": [],
   "source": [
    "# Average Trip Length\n",
    "trip_len = (dataset['Trip']['travdist']*dataset['Trip']['trexpfac']).sum()/dataset['Trip']['trexpfac'].sum()\n",
    "df = add_row(df, row_name='trip_len', description='Average Trips Length', value=trip_len)"
   ]
  },
  {
   "cell_type": "code",
   "execution_count": 210,
   "metadata": {
    "collapsed": false
   },
   "outputs": [],
   "source": [
    "# VMT per capita\n",
    "driver_trips = dataset['Trip'][dataset['Trip']['dorp'] == 'Driver']\n",
    "vmt_per_cap = (driver_trips['travdist']*driver_trips['trexpfac']).sum()/dataset['Person']['psexpfac'].sum()\n",
    "df = add_row(df, row_name='vmt_per_cap', description='VMT per Person', value=vmt_per_cap)"
   ]
  },
  {
   "cell_type": "code",
   "execution_count": 211,
   "metadata": {
    "collapsed": false
   },
   "outputs": [],
   "source": [
    "# Average distance to work\n",
    "to_work_tours = dataset['Tour'][dataset['Tour']['pdpurp'] == 'Work']\n",
    "dist_to_work = (to_work_tours['tautodist']*to_work_tours['toexpfac']).sum()/to_work_tours['toexpfac'].sum()\n",
    "df = add_row(df, row_name='dist_to_work', description='Avg Distance to Work', value=dist_to_work)"
   ]
  },
  {
   "cell_type": "code",
   "execution_count": 212,
   "metadata": {
    "collapsed": false
   },
   "outputs": [],
   "source": [
    "# Average distance to school\n",
    "to_school_tours = dataset['Tour'][dataset['Tour']['pdpurp'] == 'School']\n",
    "dist_to_school = (to_school_tours['tautodist']*to_school_tours['toexpfac']).sum()/to_school_tours['toexpfac'].sum()\n",
    "df = add_row(df, row_name='dist_to_school', description='Avg Distance to School', value=dist_to_school)"
   ]
  },
  {
   "cell_type": "code",
   "execution_count": 213,
   "metadata": {
    "collapsed": true
   },
   "outputs": [],
   "source": [
    "# Transit Pass Ownership"
   ]
  },
  {
   "cell_type": "code",
   "execution_count": 214,
   "metadata": {
    "collapsed": true
   },
   "outputs": [],
   "source": [
    "# Total Boardings"
   ]
  },
  {
   "cell_type": "code",
   "execution_count": 215,
   "metadata": {
    "collapsed": true
   },
   "outputs": [],
   "source": [
    "# Total Workers"
   ]
  },
  {
   "cell_type": "code",
   "execution_count": 216,
   "metadata": {
    "collapsed": true
   },
   "outputs": [],
   "source": [
    "# % of workers working at home"
   ]
  },
  {
   "cell_type": "code",
   "execution_count": 217,
   "metadata": {
    "collapsed": true
   },
   "outputs": [],
   "source": [
    "# Work-at-home workers "
   ]
  },
  {
   "cell_type": "code",
   "execution_count": null,
   "metadata": {
    "collapsed": false
   },
   "outputs": [],
   "source": []
  },
  {
   "cell_type": "code",
   "execution_count": 220,
   "metadata": {
    "collapsed": false
   },
   "outputs": [],
   "source": [
    "# add field specif\n",
    "df['source'] = dataset['name']\n",
    "\n",
    "# Write this summary to csv\n",
    "\n",
    "df.to_csv(dataset['name'] + '_' + 'aggregate_measures.csv')"
   ]
  },
  {
   "cell_type": "markdown",
   "metadata": {},
   "source": [
    "## Destination Choice Report\n",
    "- distance by tour purpose\n",
    "- distance by tour mode\n",
    "- trips per tour by tour purpose\n",
    "- trips per tour by tour mode\n",
    "- distance by trip purpose\n",
    "- distance by trip purpose\n",
    "- tours by destination district\n",
    "- trips by destination district\n",
    "- residents by district"
   ]
  },
  {
   "cell_type": "code",
   "execution_count": null,
   "metadata": {
    "collapsed": true
   },
   "outputs": [],
   "source": []
  },
  {
   "cell_type": "markdown",
   "metadata": {},
   "source": [
    "## Day Pattern\n",
    "- Tours by purpose distribution\n"
   ]
  },
  {
   "cell_type": "markdown",
   "metadata": {},
   "source": [
    "## Mode Choice\n",
    "- tour mode share\n",
    "- tour mode share by purpose\n",
    "- trip mode by tour mode\n",
    "- tour by mode and travel time"
   ]
  },
  {
   "cell_type": "markdown",
   "metadata": {},
   "source": [
    "## Time of Day"
   ]
  },
  {
   "cell_type": "code",
   "execution_count": null,
   "metadata": {
    "collapsed": true
   },
   "outputs": [],
   "source": []
  }
 ],
 "metadata": {
  "kernelspec": {
   "display_name": "Python 2",
   "language": "python",
   "name": "python2"
  },
  "language_info": {
   "codemirror_mode": {
    "name": "ipython",
    "version": 2
   },
   "file_extension": ".py",
   "mimetype": "text/x-python",
   "name": "python",
   "nbconvert_exporter": "python",
   "pygments_lexer": "ipython2",
   "version": "2.7.9"
  }
 },
 "nbformat": 4,
 "nbformat_minor": 0
}
