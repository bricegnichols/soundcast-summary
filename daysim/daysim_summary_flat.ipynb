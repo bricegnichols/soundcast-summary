{
 "cells": [
  {
   "cell_type": "markdown",
   "metadata": {},
   "source": [
    "- produce csv output summary of daysim results for use in tableau and other sources"
   ]
  },
  {
   "cell_type": "code",
   "execution_count": 63,
   "metadata": {
    "collapsed": true
   },
   "outputs": [],
   "source": [
    "import pandas as pd\n",
    "import h5py\n",
    "% matplotlib inline"
   ]
  },
  {
   "cell_type": "code",
   "execution_count": 197,
   "metadata": {
    "collapsed": true
   },
   "outputs": [],
   "source": [
    "survey_h5 = h5py.File(r'R:\\SoundCast\\Inputs\\2014\\etc\\survey.h5')\n",
    "daysim_h5 = h5py.File(r'R:\\SoundCast\\releases\\TransportationFutures2010\\outputs\\daysim_outputs.h5')\n",
    "\n",
    "scenario_name = 'new_run'"
   ]
  },
  {
   "cell_type": "code",
   "execution_count": 290,
   "metadata": {
    "collapsed": true
   },
   "outputs": [],
   "source": [
    "# Load lookup files\n",
    "districts = pd.read_csv(r'data/district_lookup.csv')"
   ]
  },
  {
   "cell_type": "code",
   "execution_count": 198,
   "metadata": {
    "collapsed": true
   },
   "outputs": [],
   "source": [
    "def h5_to_df(h5file, table_list, name=False):\n",
    "    \"\"\"\n",
    "    Load h5-formatted data based on a table list. Assumes heirarchy of a set of tables.\n",
    "    \"\"\"\n",
    "    output_dict = {}\n",
    "    \n",
    "    for table in table_list:\n",
    "        df = pd.DataFrame()\n",
    "        for field in h5file[table].keys():\n",
    "            df[field] = h5file[table][field][:]\n",
    "            \n",
    "        output_dict[table] = df\n",
    "    \n",
    "    if name:\n",
    "        output_dict['name'] = name\n",
    "    \n",
    "    return output_dict"
   ]
  },
  {
   "cell_type": "code",
   "execution_count": 199,
   "metadata": {
    "collapsed": false
   },
   "outputs": [],
   "source": [
    "survey = h5_to_df(survey_h5, table_list=['Household','Trip','Tour','Person','HouseholdDay'], name='survey')\n",
    "daysim = h5_to_df(daysim_h5, table_list=['Household','Trip','Tour','Person','HouseholdDay'], name=scenario_name)"
   ]
  },
  {
   "cell_type": "code",
   "execution_count": 200,
   "metadata": {
    "collapsed": false
   },
   "outputs": [],
   "source": [
    "# # Add unique person ID \n",
    "# survey['Trip']['unique_id'] = survey['Trip']['hhno'].astype('str') + '_' + survey['Trip']['pno'].astype('str')\n",
    "# survey['Person']['unique_id'] = survey['Person']['hhno'].astype('str') + '_' + survey['Person']['pno'].astype('str')\n",
    "\n",
    "# daysim['Trip']['unique_id'] = daysim['Trip']['hhno'].astype('str') + '_' + daysim['Trip']['pno'].astype('str')\n",
    "# daysim['Person']['unique_id'] = daysim['Person']['hhno'].astype('str') + '_' + daysim['Person']['pno'].astype('str')"
   ]
  },
  {
   "cell_type": "markdown",
   "metadata": {},
   "source": [
    "## Add Labels"
   ]
  },
  {
   "cell_type": "code",
   "execution_count": 201,
   "metadata": {
    "collapsed": false
   },
   "outputs": [],
   "source": [
    "# apply labels all based on table, field, and value\n",
    "labels = pd.read_csv(r'variable_labels.csv')\n",
    "labels_applied=False\n",
    "# Only run this once, set labels_applied = False in loading \n",
    "if not labels_applied:\n",
    "    for table in labels['table'].unique():\n",
    "        df = labels[labels['table'] == table]\n",
    "        for field in df['field'].unique():\n",
    "            newdf = df[df['field'] == field]\n",
    "            local_series = pd.Series(newdf['text'].values, index=newdf['value'])\n",
    "            survey[table][field] = survey[table][field].map(local_series)\n",
    "            daysim[table][field] = daysim[table][field].map(local_series)\n",
    "\n",
    "# Only run this once\n",
    "labels_applied = True"
   ]
  },
  {
   "cell_type": "markdown",
   "metadata": {},
   "source": [
    "## Define dataset\n",
    "- model or observed"
   ]
  },
  {
   "cell_type": "code",
   "execution_count": 439,
   "metadata": {
    "collapsed": true
   },
   "outputs": [],
   "source": [
    "# dataset = daysim\n",
    "dataset = survey\n"
   ]
  },
  {
   "cell_type": "code",
   "execution_count": null,
   "metadata": {
    "collapsed": false
   },
   "outputs": [],
   "source": []
  },
  {
   "cell_type": "markdown",
   "metadata": {},
   "source": [
    "## Aggregate Measures\n",
    " - total persons, households, avg household size, avg trips/person, vmt per person, avg distance to work, avg distance to school"
   ]
  },
  {
   "cell_type": "code",
   "execution_count": 203,
   "metadata": {
    "collapsed": true
   },
   "outputs": [],
   "source": [
    "df = pd.DataFrame()"
   ]
  },
  {
   "cell_type": "code",
   "execution_count": 204,
   "metadata": {
    "collapsed": false
   },
   "outputs": [],
   "source": [
    "def add_row(df, row_name, description, value):\n",
    "    df.ix[row_name,'description'] = description\n",
    "    df.ix[row_name,'value'] = value\n",
    "    \n",
    "    return df"
   ]
  },
  {
   "cell_type": "code",
   "execution_count": 205,
   "metadata": {
    "collapsed": false
   },
   "outputs": [],
   "source": [
    "# Total Persons\n",
    "df = add_row(df, row_name='total_persons', description='Total Persons', value=dataset['Person']['psexpfac'].sum())"
   ]
  },
  {
   "cell_type": "code",
   "execution_count": 206,
   "metadata": {
    "collapsed": false
   },
   "outputs": [],
   "source": [
    "# Total Households\n",
    "df = add_row(df, row_name='total_hhs', description='Total Households', value=dataset['Household']['hhexpfac'].sum())"
   ]
  },
  {
   "cell_type": "code",
   "execution_count": 207,
   "metadata": {
    "collapsed": false
   },
   "outputs": [],
   "source": [
    "# Average Household Size\n",
    "avg_hh_size = (dataset['Household']['hhsize']*dataset['Household']['hhexpfac']).sum()/dataset['Household']['hhexpfac'].sum()\n",
    "df = add_row(df, row_name='avg_hh_size', description='Average Household Size', value=avg_hh_size)"
   ]
  },
  {
   "cell_type": "code",
   "execution_count": 208,
   "metadata": {
    "collapsed": false
   },
   "outputs": [],
   "source": [
    "# Average Trips per Person\n",
    "trips_per_person = dataset['Trip']['trexpfac'].sum()/dataset['Person']['psexpfac'].sum()\n",
    "df = add_row(df, row_name='trips_per_person', description='Average Trips per Person', value=trips_per_person)"
   ]
  },
  {
   "cell_type": "code",
   "execution_count": 209,
   "metadata": {
    "collapsed": false
   },
   "outputs": [],
   "source": [
    "# Average Trip Length\n",
    "trip_len = (dataset['Trip']['travdist']*dataset['Trip']['trexpfac']).sum()/dataset['Trip']['trexpfac'].sum()\n",
    "df = add_row(df, row_name='trip_len', description='Average Trips Length', value=trip_len)"
   ]
  },
  {
   "cell_type": "code",
   "execution_count": 210,
   "metadata": {
    "collapsed": false
   },
   "outputs": [],
   "source": [
    "# VMT per capita\n",
    "driver_trips = dataset['Trip'][dataset['Trip']['dorp'] == 'Driver']\n",
    "vmt_per_cap = (driver_trips['travdist']*driver_trips['trexpfac']).sum()/dataset['Person']['psexpfac'].sum()\n",
    "df = add_row(df, row_name='vmt_per_cap', description='VMT per Person', value=vmt_per_cap)"
   ]
  },
  {
   "cell_type": "code",
   "execution_count": 211,
   "metadata": {
    "collapsed": false
   },
   "outputs": [],
   "source": [
    "# Average distance to work\n",
    "to_work_tours = dataset['Tour'][dataset['Tour']['pdpurp'] == 'Work']\n",
    "dist_to_work = (to_work_tours['tautodist']*to_work_tours['toexpfac']).sum()/to_work_tours['toexpfac'].sum()\n",
    "df = add_row(df, row_name='dist_to_work', description='Avg Distance to Work', value=dist_to_work)"
   ]
  },
  {
   "cell_type": "code",
   "execution_count": 212,
   "metadata": {
    "collapsed": false
   },
   "outputs": [],
   "source": [
    "# Average distance to school\n",
    "to_school_tours = dataset['Tour'][dataset['Tour']['pdpurp'] == 'School']\n",
    "dist_to_school = (to_school_tours['tautodist']*to_school_tours['toexpfac']).sum()/to_school_tours['toexpfac'].sum()\n",
    "df = add_row(df, row_name='dist_to_school', description='Avg Distance to School', value=dist_to_school)"
   ]
  },
  {
   "cell_type": "code",
   "execution_count": 213,
   "metadata": {
    "collapsed": true
   },
   "outputs": [],
   "source": [
    "# Transit Pass Ownership"
   ]
  },
  {
   "cell_type": "code",
   "execution_count": 214,
   "metadata": {
    "collapsed": true
   },
   "outputs": [],
   "source": [
    "# Total Boardings"
   ]
  },
  {
   "cell_type": "code",
   "execution_count": 215,
   "metadata": {
    "collapsed": true
   },
   "outputs": [],
   "source": [
    "# Total Workers"
   ]
  },
  {
   "cell_type": "code",
   "execution_count": 216,
   "metadata": {
    "collapsed": true
   },
   "outputs": [],
   "source": [
    "# % of workers working at home"
   ]
  },
  {
   "cell_type": "code",
   "execution_count": 217,
   "metadata": {
    "collapsed": true
   },
   "outputs": [],
   "source": [
    "# Work-at-home workers "
   ]
  },
  {
   "cell_type": "code",
   "execution_count": null,
   "metadata": {
    "collapsed": false
   },
   "outputs": [],
   "source": []
  },
  {
   "cell_type": "code",
   "execution_count": 220,
   "metadata": {
    "collapsed": false
   },
   "outputs": [],
   "source": [
    "# add field specif\n",
    "df['source'] = dataset['name']\n",
    "\n",
    "# Write this summary to csv\n",
    "\n",
    "df.to_csv(dataset['name'] + '_' + 'aggregate_measures.csv')"
   ]
  },
  {
   "cell_type": "markdown",
   "metadata": {},
   "source": [
    "## Destination Choice Report\n",
    "\n"
   ]
  },
  {
   "cell_type": "code",
   "execution_count": 440,
   "metadata": {
    "collapsed": false
   },
   "outputs": [],
   "source": [
    "tour = dataset['Tour']\n",
    "trip = dataset['Trip']\n",
    "hh = dataset['Household']\n",
    "person = dataset['Person']"
   ]
  },
  {
   "cell_type": "markdown",
   "metadata": {},
   "source": [
    "## Results by Trip/Tour Purpose\n",
    "- distance by tour purpose\n",
    "- distance by trip purpose\n",
    "- trips per tour by tour purpose\n",
    "- number of tours by purpose\n",
    "- tour mode share\n",
    "- trip mode share"
   ]
  },
  {
   "cell_type": "code",
   "execution_count": 430,
   "metadata": {
    "collapsed": false
   },
   "outputs": [],
   "source": [
    "# Tour distance by purpose\n",
    "tour['tautodist_wt'] = tour['toexpfac']*tour['tautodist']\n",
    "dist_by_tour_purp = pd.DataFrame(tour.groupby('pdpurp').sum()['tautodist_wt']/tour.groupby('pdpurp').sum()['toexpfac'],\n",
    "                                columns=['dist_by_tour_purp'])\n",
    "dist_by_tour_purp['purpose'] = dist_by_tour_purp.index"
   ]
  },
  {
   "cell_type": "code",
   "execution_count": 431,
   "metadata": {
    "collapsed": false
   },
   "outputs": [],
   "source": [
    "# Trip distance by purpose\n",
    "trip['travdist_wt'] = trip['trexpfac']*trip['travdist']\n",
    "dist_by_trip_purp = pd.DataFrame(trip.groupby('dpurp').sum()['travdist_wt']/trip.groupby('dpurp').sum()['trexpfac'],\n",
    "                                columns=['dist_by_trip_purp'])\n",
    "dist_by_trip_purp['purpose'] = dist_by_trip_purp.index"
   ]
  },
  {
   "cell_type": "code",
   "execution_count": 432,
   "metadata": {
    "collapsed": false
   },
   "outputs": [],
   "source": [
    "# Trips per tour\n",
    "\n"
   ]
  },
  {
   "cell_type": "code",
   "execution_count": 433,
   "metadata": {
    "collapsed": false
   },
   "outputs": [],
   "source": [
    "# number of total tours generated by purpose\n",
    "total_tours = pd.DataFrame(tour.groupby('pdpurp').sum()['toexpfac'])\n",
    "total_tours.rename(columns={'toexpfac':'total_tours'},inplace=True)\n",
    "total_tours['purpose'] = total_tours.index\n",
    "total_tours.reset_index(inplace=True, drop=True)"
   ]
  },
  {
   "cell_type": "code",
   "execution_count": 434,
   "metadata": {
    "collapsed": false
   },
   "outputs": [],
   "source": [
    "# trip mode share\n",
    "trips_by_mode = pd.pivot_table(trip,values='trexpfac',index='dpurp',columns='mode',aggfunc='sum')\n",
    "trips_by_mode.columns = [i+'_trips' for i in trips_by_mode.columns]\n",
    "trips_by_mode['purpose'] = trips_by_mode.index\n",
    "trips_by_mode.reset_index(inplace=True, drop=True)"
   ]
  },
  {
   "cell_type": "code",
   "execution_count": 435,
   "metadata": {
    "collapsed": false
   },
   "outputs": [
    {
     "data": {
      "text/html": [
       "<div style=\"max-height:1000px;max-width:1500px;overflow:auto;\">\n",
       "<table border=\"1\" class=\"dataframe\">\n",
       "  <thead>\n",
       "    <tr style=\"text-align: right;\">\n",
       "      <th></th>\n",
       "      <th>Bike_trips</th>\n",
       "      <th>HOV2_trips</th>\n",
       "      <th>HOV3+_trips</th>\n",
       "      <th>SOV_trips</th>\n",
       "      <th>School Bus_trips</th>\n",
       "      <th>Transit_trips</th>\n",
       "      <th>Walk_trips</th>\n",
       "      <th>purpose</th>\n",
       "    </tr>\n",
       "  </thead>\n",
       "  <tbody>\n",
       "    <tr>\n",
       "      <th>0</th>\n",
       "      <td>   NaN</td>\n",
       "      <td>     902</td>\n",
       "      <td>    NaN</td>\n",
       "      <td>   38111</td>\n",
       "      <td>    NaN</td>\n",
       "      <td>  39013</td>\n",
       "      <td>    NaN</td>\n",
       "      <td> Change Mode Inserted Purpose</td>\n",
       "    </tr>\n",
       "    <tr>\n",
       "      <th>1</th>\n",
       "      <td>  5534</td>\n",
       "      <td>  565471</td>\n",
       "      <td> 693146</td>\n",
       "      <td>  353230</td>\n",
       "      <td>   8295</td>\n",
       "      <td>   4720</td>\n",
       "      <td>  93805</td>\n",
       "      <td>                       Escort</td>\n",
       "    </tr>\n",
       "    <tr>\n",
       "      <th>2</th>\n",
       "      <td>  5301</td>\n",
       "      <td>  262273</td>\n",
       "      <td> 159657</td>\n",
       "      <td>  462513</td>\n",
       "      <td>  10521</td>\n",
       "      <td>  15437</td>\n",
       "      <td> 120710</td>\n",
       "      <td>                         Meal</td>\n",
       "    </tr>\n",
       "    <tr>\n",
       "      <th>3</th>\n",
       "      <td> 44286</td>\n",
       "      <td> 1204584</td>\n",
       "      <td> 997423</td>\n",
       "      <td> 2304275</td>\n",
       "      <td> 181962</td>\n",
       "      <td> 122259</td>\n",
       "      <td> 370545</td>\n",
       "      <td>                    None/Home</td>\n",
       "    </tr>\n",
       "    <tr>\n",
       "      <th>4</th>\n",
       "      <td> 13876</td>\n",
       "      <td>  436261</td>\n",
       "      <td> 332701</td>\n",
       "      <td> 1095926</td>\n",
       "      <td>  19721</td>\n",
       "      <td>  28100</td>\n",
       "      <td> 151499</td>\n",
       "      <td>            Personal Business</td>\n",
       "    </tr>\n",
       "    <tr>\n",
       "      <th>5</th>\n",
       "      <td> 13077</td>\n",
       "      <td>  254285</td>\n",
       "      <td> 297501</td>\n",
       "      <td>  118570</td>\n",
       "      <td> 156534</td>\n",
       "      <td>  20493</td>\n",
       "      <td>  93311</td>\n",
       "      <td>                       School</td>\n",
       "    </tr>\n",
       "    <tr>\n",
       "      <th>6</th>\n",
       "      <td>  5752</td>\n",
       "      <td>  163079</td>\n",
       "      <td> 111754</td>\n",
       "      <td>  424008</td>\n",
       "      <td>  12373</td>\n",
       "      <td>  14819</td>\n",
       "      <td>  83967</td>\n",
       "      <td>                         Shop</td>\n",
       "    </tr>\n",
       "    <tr>\n",
       "      <th>7</th>\n",
       "      <td>  9009</td>\n",
       "      <td>  324966</td>\n",
       "      <td> 210053</td>\n",
       "      <td>  601633</td>\n",
       "      <td>   8861</td>\n",
       "      <td>  17754</td>\n",
       "      <td> 153761</td>\n",
       "      <td>                       Social</td>\n",
       "    </tr>\n",
       "    <tr>\n",
       "      <th>8</th>\n",
       "      <td> 19431</td>\n",
       "      <td>  125256</td>\n",
       "      <td>  70771</td>\n",
       "      <td> 1678522</td>\n",
       "      <td>    345</td>\n",
       "      <td> 114243</td>\n",
       "      <td> 151591</td>\n",
       "      <td>                         Work</td>\n",
       "    </tr>\n",
       "  </tbody>\n",
       "</table>\n",
       "</div>"
      ],
      "text/plain": [
       "   Bike_trips  HOV2_trips  HOV3+_trips  SOV_trips  School Bus_trips  \\\n",
       "0         NaN         902          NaN      38111               NaN   \n",
       "1        5534      565471       693146     353230              8295   \n",
       "2        5301      262273       159657     462513             10521   \n",
       "3       44286     1204584       997423    2304275            181962   \n",
       "4       13876      436261       332701    1095926             19721   \n",
       "5       13077      254285       297501     118570            156534   \n",
       "6        5752      163079       111754     424008             12373   \n",
       "7        9009      324966       210053     601633              8861   \n",
       "8       19431      125256        70771    1678522               345   \n",
       "\n",
       "   Transit_trips  Walk_trips                       purpose  \n",
       "0          39013         NaN  Change Mode Inserted Purpose  \n",
       "1           4720       93805                        Escort  \n",
       "2          15437      120710                          Meal  \n",
       "3         122259      370545                     None/Home  \n",
       "4          28100      151499             Personal Business  \n",
       "5          20493       93311                        School  \n",
       "6          14819       83967                          Shop  \n",
       "7          17754      153761                        Social  \n",
       "8         114243      151591                          Work  "
      ]
     },
     "execution_count": 435,
     "metadata": {},
     "output_type": "execute_result"
    }
   ],
   "source": [
    "trips_by_mode"
   ]
  },
  {
   "cell_type": "code",
   "execution_count": 436,
   "metadata": {
    "collapsed": false
   },
   "outputs": [
    {
     "data": {
      "text/html": [
       "<div style=\"max-height:1000px;max-width:1500px;overflow:auto;\">\n",
       "<table border=\"1\" class=\"dataframe\">\n",
       "  <thead>\n",
       "    <tr style=\"text-align: right;\">\n",
       "      <th></th>\n",
       "      <th>Bike_tours</th>\n",
       "      <th>HOV2_tours</th>\n",
       "      <th>HOV3+_tours</th>\n",
       "      <th>Park_tours</th>\n",
       "      <th>SOV_tours</th>\n",
       "      <th>School Bus_tours</th>\n",
       "      <th>Transit_tours</th>\n",
       "      <th>Walk_tours</th>\n",
       "      <th>purpose</th>\n",
       "    </tr>\n",
       "  </thead>\n",
       "  <tbody>\n",
       "    <tr>\n",
       "      <th>0</th>\n",
       "      <td>  2679</td>\n",
       "      <td> 309456</td>\n",
       "      <td> 424529</td>\n",
       "      <td>   NaN</td>\n",
       "      <td>  12025</td>\n",
       "      <td>    NaN</td>\n",
       "      <td>    158</td>\n",
       "      <td>  42555</td>\n",
       "      <td>            Escort</td>\n",
       "    </tr>\n",
       "    <tr>\n",
       "      <th>1</th>\n",
       "      <td>  3083</td>\n",
       "      <td> 199476</td>\n",
       "      <td> 102124</td>\n",
       "      <td>   NaN</td>\n",
       "      <td> 187469</td>\n",
       "      <td>    NaN</td>\n",
       "      <td>   8908</td>\n",
       "      <td>  77718</td>\n",
       "      <td>              Meal</td>\n",
       "    </tr>\n",
       "    <tr>\n",
       "      <th>2</th>\n",
       "      <td>  8088</td>\n",
       "      <td> 170718</td>\n",
       "      <td> 106945</td>\n",
       "      <td>   NaN</td>\n",
       "      <td> 394193</td>\n",
       "      <td>    NaN</td>\n",
       "      <td>  15318</td>\n",
       "      <td>  31971</td>\n",
       "      <td> Personal Business</td>\n",
       "    </tr>\n",
       "    <tr>\n",
       "      <th>3</th>\n",
       "      <td> 12523</td>\n",
       "      <td> 118772</td>\n",
       "      <td> 240041</td>\n",
       "      <td>   NaN</td>\n",
       "      <td>  82582</td>\n",
       "      <td> 267858</td>\n",
       "      <td>  27064</td>\n",
       "      <td>  72707</td>\n",
       "      <td>            School</td>\n",
       "    </tr>\n",
       "    <tr>\n",
       "      <th>4</th>\n",
       "      <td>  3347</td>\n",
       "      <td>  66685</td>\n",
       "      <td>  35131</td>\n",
       "      <td>   NaN</td>\n",
       "      <td> 173360</td>\n",
       "      <td>    NaN</td>\n",
       "      <td>   6324</td>\n",
       "      <td>  32042</td>\n",
       "      <td>              Shop</td>\n",
       "    </tr>\n",
       "    <tr>\n",
       "      <th>5</th>\n",
       "      <td>  7638</td>\n",
       "      <td> 282242</td>\n",
       "      <td> 161012</td>\n",
       "      <td>   NaN</td>\n",
       "      <td> 377094</td>\n",
       "      <td>    NaN</td>\n",
       "      <td>  17958</td>\n",
       "      <td> 119549</td>\n",
       "      <td>            Social</td>\n",
       "    </tr>\n",
       "    <tr>\n",
       "      <th>6</th>\n",
       "      <td> 15020</td>\n",
       "      <td> 182143</td>\n",
       "      <td>  85321</td>\n",
       "      <td> 39013</td>\n",
       "      <td> 957005</td>\n",
       "      <td>    NaN</td>\n",
       "      <td> 102249</td>\n",
       "      <td>  31486</td>\n",
       "      <td>              Work</td>\n",
       "    </tr>\n",
       "  </tbody>\n",
       "</table>\n",
       "</div>"
      ],
      "text/plain": [
       "   Bike_tours  HOV2_tours  HOV3+_tours  Park_tours  SOV_tours  \\\n",
       "0        2679      309456       424529         NaN      12025   \n",
       "1        3083      199476       102124         NaN     187469   \n",
       "2        8088      170718       106945         NaN     394193   \n",
       "3       12523      118772       240041         NaN      82582   \n",
       "4        3347       66685        35131         NaN     173360   \n",
       "5        7638      282242       161012         NaN     377094   \n",
       "6       15020      182143        85321       39013     957005   \n",
       "\n",
       "   School Bus_tours  Transit_tours  Walk_tours            purpose  \n",
       "0               NaN            158       42555             Escort  \n",
       "1               NaN           8908       77718               Meal  \n",
       "2               NaN          15318       31971  Personal Business  \n",
       "3            267858          27064       72707             School  \n",
       "4               NaN           6324       32042               Shop  \n",
       "5               NaN          17958      119549             Social  \n",
       "6               NaN         102249       31486               Work  "
      ]
     },
     "execution_count": 436,
     "metadata": {},
     "output_type": "execute_result"
    }
   ],
   "source": [
    "# tour mode share\n",
    "tours_by_mode = pd.pivot_table(tour,values='toexpfac',index='pdpurp',columns='tmodetp',aggfunc='sum')\n",
    "tours_by_mode.columns = [i+'_tours' for i in tours_by_mode.columns]\n",
    "tours_by_mode['purpose'] = tours_by_mode.index\n",
    "tours_by_mode.reset_index(inplace=True, drop=True)\n",
    "tours_by_mode"
   ]
  },
  {
   "cell_type": "code",
   "execution_count": 437,
   "metadata": {
    "collapsed": false
   },
   "outputs": [],
   "source": [
    "# merge all dataframes with data by purpose\n",
    "df_list = [dist_by_tour_purp, dist_by_trip_purp, total_tours, tours_by_mode, trips_by_mode]\n",
    "purpose_df = reduce(lambda left,right: pd.merge(left,right,on='purpose'), df_list)\n",
    "\n",
    "# add field specif\n",
    "purpose_df['source'] = dataset['name']\n",
    "purpose_df.to_csv(dataset['name'] + '_' + 'purpose_df.csv')"
   ]
  },
  {
   "cell_type": "markdown",
   "metadata": {},
   "source": [
    "## Results By Mode\n",
    "- distance by tour mode\n",
    "- trips per tour by tour mode\n",
    "- trip mode by tour mode\n",
    "- number of tours by mode\n",
    "- travel time by mode"
   ]
  },
  {
   "cell_type": "code",
   "execution_count": 441,
   "metadata": {
    "collapsed": false
   },
   "outputs": [],
   "source": [
    "# Tour distance by purpose\n",
    "tour['tautodist_wt'] = tour['toexpfac']*tour['tautodist']\n",
    "dist_by_tour_mode = pd.DataFrame(tour.groupby('tmodetp').sum()['tautodist_wt']/tour.groupby('tmodetp').sum()['toexpfac'],\n",
    "                                columns=['dist_by_tour_mode'])\n",
    "dist_by_tour_mode['mode'] = dist_by_tour_mode.index"
   ]
  },
  {
   "cell_type": "code",
   "execution_count": 442,
   "metadata": {
    "collapsed": true
   },
   "outputs": [],
   "source": [
    "# Trip distance by purpose\n",
    "trip['travdist_wt'] = trip['trexpfac']*trip['travdist']\n",
    "dist_by_trip_mode = pd.DataFrame(trip.groupby('mode').sum()['travdist_wt']/trip.groupby('mode').sum()['trexpfac'],\n",
    "                                columns=['dist_by_trip_mode'])\n",
    "dist_by_trip_mode['mode'] = dist_by_trip_mode.index"
   ]
  },
  {
   "cell_type": "code",
   "execution_count": 443,
   "metadata": {
    "collapsed": false
   },
   "outputs": [],
   "source": [
    "# Trips per tour by mode\n"
   ]
  },
  {
   "cell_type": "code",
   "execution_count": 444,
   "metadata": {
    "collapsed": true
   },
   "outputs": [],
   "source": [
    "# trip mode by tour mode"
   ]
  },
  {
   "cell_type": "code",
   "execution_count": 445,
   "metadata": {
    "collapsed": false
   },
   "outputs": [],
   "source": [
    "# merge all dataframes with data by purpose\n",
    "df_list = [dist_by_tour_mode, dist_by_trip_mode]\n",
    "mode_df = reduce(lambda left,right: pd.merge(left,right,on='mode'), df_list)\n",
    "\n",
    "# add field specif\n",
    "mode_df['source'] = dataset['name']\n",
    "mode_df.to_csv(dataset['name'] + '_' + 'mode_df.csv')"
   ]
  },
  {
   "cell_type": "markdown",
   "metadata": {},
   "source": [
    "## Results By District\n",
    "- tours by destination district\n",
    "- trips by destination district\n",
    "- residents by district"
   ]
  },
  {
   "cell_type": "code",
   "execution_count": 424,
   "metadata": {
    "collapsed": false
   },
   "outputs": [],
   "source": [
    "# Trips by Destination District\n",
    "trip_district = pd.merge(trip[['dtaz','trexpfac']],districts,left_on='dtaz',right_on='taz')\n",
    "trip_district_df = pd.DataFrame(trip_district.groupby('district_name')['trexpfac'].sum())\n",
    "trip_district_df.rename(columns={'trexpfac':'trips'},inplace=True)\n",
    "trip_district_df.reset_index(inplace=True)"
   ]
  },
  {
   "cell_type": "code",
   "execution_count": 425,
   "metadata": {
    "collapsed": false
   },
   "outputs": [],
   "source": [
    "# Tours by Destination District\n",
    "tour_district = pd.merge(tour[['tdtaz','toexpfac']],districts,left_on='tdtaz',right_on='taz')\n",
    "tour_district_df = pd.DataFrame(tour_district.groupby('district_name')['toexpfac'].sum())\n",
    "tour_district_df.rename(columns={'toexpfac':'tours'},inplace=True)\n",
    "tour_district_df.reset_index(inplace=True)"
   ]
  },
  {
   "cell_type": "code",
   "execution_count": 426,
   "metadata": {
    "collapsed": false
   },
   "outputs": [],
   "source": [
    "# Residents by District\n",
    "hh_per_district = pd.merge(hh[['hhtaz','hhsize','hhexpfac','hhno']], districts, left_on='hhtaz', right_on='taz')\n",
    "\n",
    "hh_per_district['wt_hhsize'] = hh_per_district['hhsize']*hh_per_district['hhexpfac']\n",
    "residents_df = pd.DataFrame(hh_per_district.groupby('district_name').sum()['wt_hhsize'])\n",
    "residents_df.rename(columns={'wt_hhsize':'residents'},inplace=True)\n",
    "residents_df.reset_index(inplace=True)"
   ]
  },
  {
   "cell_type": "code",
   "execution_count": 363,
   "metadata": {
    "collapsed": false
   },
   "outputs": [],
   "source": [
    "district_df = pd.merge(pd.merge(trip_district_df,tour_district_df,on='district_name'), residents_df,on='district_name')"
   ]
  },
  {
   "cell_type": "code",
   "execution_count": null,
   "metadata": {
    "collapsed": true
   },
   "outputs": [],
   "source": [
    "# Merge these all together"
   ]
  },
  {
   "cell_type": "markdown",
   "metadata": {},
   "source": [
    "## Time of Day"
   ]
  },
  {
   "cell_type": "code",
   "execution_count": null,
   "metadata": {
    "collapsed": true
   },
   "outputs": [],
   "source": []
  }
 ],
 "metadata": {
  "kernelspec": {
   "display_name": "Python 2",
   "language": "python",
   "name": "python2"
  },
  "language_info": {
   "codemirror_mode": {
    "name": "ipython",
    "version": 2
   },
   "file_extension": ".py",
   "mimetype": "text/x-python",
   "name": "python",
   "nbconvert_exporter": "python",
   "pygments_lexer": "ipython2",
   "version": "2.7.9"
  }
 },
 "nbformat": 4,
 "nbformat_minor": 0
}
