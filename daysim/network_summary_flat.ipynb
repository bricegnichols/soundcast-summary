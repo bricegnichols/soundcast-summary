{
 "cells": [
  {
   "cell_type": "code",
   "execution_count": 1,
   "metadata": {
    "collapsed": true
   },
   "outputs": [],
   "source": [
    "import pandas as pd"
   ]
  },
  {
   "cell_type": "markdown",
   "metadata": {},
   "source": [
    "# Transit"
   ]
  },
  {
   "cell_type": "code",
   "execution_count": null,
   "metadata": {
    "collapsed": false
   },
   "outputs": [],
   "source": [
    "transit_df = pd.read_excel(r'J:\\Projects\\Soundcast\\network_summary_detailed.xlsx', sheetname='Transit Summaries')"
   ]
  },
  {
   "cell_type": "code",
   "execution_count": 63,
   "metadata": {
    "collapsed": false
   },
   "outputs": [],
   "source": [
    "# Reformat data\n",
    "dict_result = {}\n",
    "for field in ['board','time']:\n",
    "    df = pd.DataFrame(transit_df[[tod+'_'+ field for tod in todlist]].stack())\n",
    "    df.rename(columns={0:field}, inplace=True)\n",
    "    df['tod'] = [i.split('_')[0] for i in df.index.get_level_values(1)]\n",
    "    df['route_id'] = df.index.get_level_values(0)\n",
    "    df.reset_index(inplace=True, drop=True)\n",
    "    \n",
    "    dict_result[field] = df\n"
   ]
  },
  {
   "cell_type": "code",
   "execution_count": 65,
   "metadata": {
    "collapsed": false
   },
   "outputs": [
    {
     "data": {
      "text/html": [
       "<div style=\"max-height:1000px;max-width:1500px;overflow:auto;\">\n",
       "<table border=\"1\" class=\"dataframe\">\n",
       "  <thead>\n",
       "    <tr style=\"text-align: right;\">\n",
       "      <th></th>\n",
       "      <th>board</th>\n",
       "      <th>tod</th>\n",
       "      <th>route_id</th>\n",
       "    </tr>\n",
       "  </thead>\n",
       "  <tbody>\n",
       "    <tr>\n",
       "      <th>0</th>\n",
       "      <td>  82.318138</td>\n",
       "      <td> 6to7</td>\n",
       "      <td> 0001</td>\n",
       "    </tr>\n",
       "    <tr>\n",
       "      <th>1</th>\n",
       "      <td> 128.641617</td>\n",
       "      <td> 7to8</td>\n",
       "      <td> 0001</td>\n",
       "    </tr>\n",
       "    <tr>\n",
       "      <th>2</th>\n",
       "      <td>  97.873947</td>\n",
       "      <td> 8to9</td>\n",
       "      <td> 0001</td>\n",
       "    </tr>\n",
       "    <tr>\n",
       "      <th>3</th>\n",
       "      <td>  94.789467</td>\n",
       "      <td> 6to7</td>\n",
       "      <td> 0002</td>\n",
       "    </tr>\n",
       "    <tr>\n",
       "      <th>4</th>\n",
       "      <td> 104.986832</td>\n",
       "      <td> 7to8</td>\n",
       "      <td> 0002</td>\n",
       "    </tr>\n",
       "  </tbody>\n",
       "</table>\n",
       "</div>"
      ],
      "text/plain": [
       "        board   tod route_id\n",
       "0   82.318138  6to7     0001\n",
       "1  128.641617  7to8     0001\n",
       "2   97.873947  8to9     0001\n",
       "3   94.789467  6to7     0002\n",
       "4  104.986832  7to8     0002"
      ]
     },
     "execution_count": 65,
     "metadata": {},
     "output_type": "execute_result"
    }
   ],
   "source": [
    "# Join route info\n",
    "\n",
    "dict_result['board'].head()"
   ]
  },
  {
   "cell_type": "markdown",
   "metadata": {},
   "source": [
    "# Traffic Counts"
   ]
  },
  {
   "cell_type": "code",
   "execution_count": 66,
   "metadata": {
    "collapsed": false
   },
   "outputs": [],
   "source": [
    "counts_df = pd.read_excel(r'J:\\Projects\\Soundcast\\network_summary_detailed.xlsx', sheetname='Counts Output')"
   ]
  },
  {
   "cell_type": "code",
   "execution_count": 68,
   "metadata": {
    "collapsed": false
   },
   "outputs": [
    {
     "data": {
      "text/html": [
       "<div style=\"max-height:1000px;max-width:1500px;overflow:auto;\">\n",
       "<table border=\"1\" class=\"dataframe\">\n",
       "  <thead>\n",
       "    <tr style=\"text-align: right;\">\n",
       "      <th></th>\n",
       "      <th></th>\n",
       "      <th>OBJECTID_1</th>\n",
       "      <th>Join_Count</th>\n",
       "      <th>TARGET_FID</th>\n",
       "      <th>OBJECTID</th>\n",
       "      <th>SR</th>\n",
       "      <th>RID</th>\n",
       "      <th>MP</th>\n",
       "      <th>ARM</th>\n",
       "      <th>Type_</th>\n",
       "      <th>Lanes</th>\n",
       "      <th>...</th>\n",
       "      <th>vol15to16</th>\n",
       "      <th>vol20to5</th>\n",
       "      <th>vol7to8</th>\n",
       "      <th>vol14to15</th>\n",
       "      <th>vol8to9</th>\n",
       "      <th>vol18to20</th>\n",
       "      <th>vol17to18</th>\n",
       "      <th>vol6to7</th>\n",
       "      <th>vol5to6</th>\n",
       "      <th>vol10to14</th>\n",
       "    </tr>\n",
       "  </thead>\n",
       "  <tbody>\n",
       "    <tr>\n",
       "      <th>loop_INode</th>\n",
       "      <th>loop_JNode</th>\n",
       "      <td> NaN</td>\n",
       "      <td>NaN</td>\n",
       "      <td> NaN</td>\n",
       "      <td> NaN</td>\n",
       "      <td>NaN</td>\n",
       "      <td>NaN</td>\n",
       "      <td>    NaN</td>\n",
       "      <td>    NaN</td>\n",
       "      <td> NaN</td>\n",
       "      <td>NaN</td>\n",
       "      <td>...</td>\n",
       "      <td>         NaN</td>\n",
       "      <td>         NaN</td>\n",
       "      <td>         NaN</td>\n",
       "      <td>         NaN</td>\n",
       "      <td>         NaN</td>\n",
       "      <td>         NaN</td>\n",
       "      <td>         NaN</td>\n",
       "      <td>         NaN</td>\n",
       "      <td>         NaN</td>\n",
       "      <td>         NaN</td>\n",
       "    </tr>\n",
       "    <tr>\n",
       "      <th>9282</th>\n",
       "      <th>10332</th>\n",
       "      <td> 220</td>\n",
       "      <td>  1</td>\n",
       "      <td> 220</td>\n",
       "      <td> 220</td>\n",
       "      <td>  5</td>\n",
       "      <td>  5</td>\n",
       "      <td> 207.20</td>\n",
       "      <td> 207.25</td>\n",
       "      <td>   G</td>\n",
       "      <td>  3</td>\n",
       "      <td>...</td>\n",
       "      <td> 1273.474854</td>\n",
       "      <td> 2736.361084</td>\n",
       "      <td> 1777.173462</td>\n",
       "      <td> 1240.454346</td>\n",
       "      <td> 1430.036499</td>\n",
       "      <td> 1726.923950</td>\n",
       "      <td> 1361.388428</td>\n",
       "      <td> 1416.392090</td>\n",
       "      <td>  744.846375</td>\n",
       "      <td> 4707.363281</td>\n",
       "    </tr>\n",
       "    <tr>\n",
       "      <th>10451</th>\n",
       "      <th>9277</th>\n",
       "      <td> 188</td>\n",
       "      <td>  1</td>\n",
       "      <td> 188</td>\n",
       "      <td> 188</td>\n",
       "      <td>  5</td>\n",
       "      <td>  5</td>\n",
       "      <td> 207.20</td>\n",
       "      <td> 207.25</td>\n",
       "      <td>   G</td>\n",
       "      <td>  3</td>\n",
       "      <td>...</td>\n",
       "      <td> 1907.421753</td>\n",
       "      <td> 2966.348633</td>\n",
       "      <td> 1073.866577</td>\n",
       "      <td> 1462.174438</td>\n",
       "      <td>  926.935059</td>\n",
       "      <td> 2798.736084</td>\n",
       "      <td> 2252.753174</td>\n",
       "      <td>  659.696289</td>\n",
       "      <td>  344.664398</td>\n",
       "      <td> 4534.764160</td>\n",
       "    </tr>\n",
       "    <tr>\n",
       "      <th>10732</th>\n",
       "      <th>13257</th>\n",
       "      <td> 291</td>\n",
       "      <td>  1</td>\n",
       "      <td> 291</td>\n",
       "      <td> 291</td>\n",
       "      <td>  5</td>\n",
       "      <td>  5</td>\n",
       "      <td> 203.69</td>\n",
       "      <td> 203.74</td>\n",
       "      <td>   G</td>\n",
       "      <td>  3</td>\n",
       "      <td>...</td>\n",
       "      <td> 1448.459229</td>\n",
       "      <td> 3784.408691</td>\n",
       "      <td> 2443.908447</td>\n",
       "      <td> 1525.198364</td>\n",
       "      <td> 1874.788574</td>\n",
       "      <td> 1946.188354</td>\n",
       "      <td> 1490.086304</td>\n",
       "      <td> 1989.342041</td>\n",
       "      <td> 1031.138306</td>\n",
       "      <td> 6036.317871</td>\n",
       "    </tr>\n",
       "    <tr>\n",
       "      <th>13260</th>\n",
       "      <th>10777</th>\n",
       "      <td> 187</td>\n",
       "      <td>  1</td>\n",
       "      <td> 187</td>\n",
       "      <td> 187</td>\n",
       "      <td>  5</td>\n",
       "      <td>  5</td>\n",
       "      <td> 203.69</td>\n",
       "      <td> 203.74</td>\n",
       "      <td>   G</td>\n",
       "      <td>  3</td>\n",
       "      <td>...</td>\n",
       "      <td> 2429.952393</td>\n",
       "      <td> 3802.711914</td>\n",
       "      <td> 1196.982910</td>\n",
       "      <td> 1808.074219</td>\n",
       "      <td> 1014.486389</td>\n",
       "      <td> 3631.598633</td>\n",
       "      <td> 2863.095947</td>\n",
       "      <td>  772.015198</td>\n",
       "      <td>  411.879486</td>\n",
       "      <td> 5469.338867</td>\n",
       "    </tr>\n",
       "  </tbody>\n",
       "</table>\n",
       "<p>5 rows × 59 columns</p>\n",
       "</div>"
      ],
      "text/plain": [
       "                       OBJECTID_1  Join_Count  TARGET_FID  OBJECTID  SR  RID  \\\n",
       "loop_INode loop_JNode         NaN         NaN         NaN       NaN NaN  NaN   \n",
       "9282       10332              220           1         220       220   5    5   \n",
       "10451      9277               188           1         188       188   5    5   \n",
       "10732      13257              291           1         291       291   5    5   \n",
       "13260      10777              187           1         187       187   5    5   \n",
       "\n",
       "                           MP     ARM Type_  Lanes     ...         vol15to16  \\\n",
       "loop_INode loop_JNode     NaN     NaN   NaN    NaN     ...               NaN   \n",
       "9282       10332       207.20  207.25     G      3     ...       1273.474854   \n",
       "10451      9277        207.20  207.25     G      3     ...       1907.421753   \n",
       "10732      13257       203.69  203.74     G      3     ...       1448.459229   \n",
       "13260      10777       203.69  203.74     G      3     ...       2429.952393   \n",
       "\n",
       "                          vol20to5      vol7to8    vol14to15      vol8to9  \\\n",
       "loop_INode loop_JNode          NaN          NaN          NaN          NaN   \n",
       "9282       10332       2736.361084  1777.173462  1240.454346  1430.036499   \n",
       "10451      9277        2966.348633  1073.866577  1462.174438   926.935059   \n",
       "10732      13257       3784.408691  2443.908447  1525.198364  1874.788574   \n",
       "13260      10777       3802.711914  1196.982910  1808.074219  1014.486389   \n",
       "\n",
       "                         vol18to20    vol17to18      vol6to7      vol5to6  \\\n",
       "loop_INode loop_JNode          NaN          NaN          NaN          NaN   \n",
       "9282       10332       1726.923950  1361.388428  1416.392090   744.846375   \n",
       "10451      9277        2798.736084  2252.753174   659.696289   344.664398   \n",
       "10732      13257       1946.188354  1490.086304  1989.342041  1031.138306   \n",
       "13260      10777       3631.598633  2863.095947   772.015198   411.879486   \n",
       "\n",
       "                         vol10to14  \n",
       "loop_INode loop_JNode          NaN  \n",
       "9282       10332       4707.363281  \n",
       "10451      9277        4534.764160  \n",
       "10732      13257       6036.317871  \n",
       "13260      10777       5469.338867  \n",
       "\n",
       "[5 rows x 59 columns]"
      ]
     },
     "execution_count": 68,
     "metadata": {},
     "output_type": "execute_result"
    }
   ],
   "source": [
    "counts_df.head()"
   ]
  },
  {
   "cell_type": "markdown",
   "metadata": {},
   "source": [
    "#  Network Summary"
   ]
  },
  {
   "cell_type": "code",
   "execution_count": 69,
   "metadata": {
    "collapsed": true
   },
   "outputs": [],
   "source": [
    "net_summary_df = pd.read_excel(r'J:\\Projects\\Soundcast\\network_summary_detailed.xlsx', sheetname='Network Summary')"
   ]
  },
  {
   "cell_type": "code",
   "execution_count": 71,
   "metadata": {
    "collapsed": false
   },
   "outputs": [
    {
     "data": {
      "text/plain": [
       "9to10   TP_4k                     md\n",
       "        arterial_vmt         1763401\n",
       "        connectors_vmt      273600.6\n",
       "        highway_vmt          2088964\n",
       "        arterial_vht        63178.12\n",
       "        connectors_vht      17905.68\n",
       "        highway_vht            44905\n",
       "        arterial_delay      14617.65\n",
       "        connectors_delay      -2e-06\n",
       "        highway_delay       7630.593\n",
       "16to17  TP_4k                     pm\n",
       "        arterial_vmt         2540470\n",
       "        connectors_vmt        371387\n",
       "        highway_vmt          2607158\n",
       "        arterial_vht        97734.52\n",
       "...\n",
       "5to6    connectors_vht      6290.336\n",
       "        highway_vht         19833.58\n",
       "        arterial_delay      4182.004\n",
       "        connectors_delay      -1e-06\n",
       "        highway_delay       971.2118\n",
       "10to14  TP_4k                     md\n",
       "        arterial_vmt         8567331\n",
       "        connectors_vmt       1443831\n",
       "        highway_vmt          8687032\n",
       "        arterial_vht        318087.5\n",
       "        connectors_vht      94833.95\n",
       "        highway_vht         183539.5\n",
       "        arterial_delay      79759.64\n",
       "        connectors_delay      -5e-06\n",
       "        highway_delay       27704.04\n",
       "Length: 120, dtype: object"
      ]
     },
     "execution_count": 71,
     "metadata": {},
     "output_type": "execute_result"
    }
   ],
   "source": [
    "net_summary_df.stack()"
   ]
  },
  {
   "cell_type": "code",
   "execution_count": null,
   "metadata": {
    "collapsed": true
   },
   "outputs": [],
   "source": []
  }
 ],
 "metadata": {
  "kernelspec": {
   "display_name": "Python 2",
   "language": "python",
   "name": "python2"
  },
  "language_info": {
   "codemirror_mode": {
    "name": "ipython",
    "version": 2
   },
   "file_extension": ".py",
   "mimetype": "text/x-python",
   "name": "python",
   "nbconvert_exporter": "python",
   "pygments_lexer": "ipython2",
   "version": "2.7.9"
  }
 },
 "nbformat": 4,
 "nbformat_minor": 0
}
