{
 "cells": [
  {
   "cell_type": "code",
   "execution_count": 1,
   "metadata": {
    "collapsed": true
   },
   "outputs": [],
   "source": [
    "import pandas as pd"
   ]
  },
  {
   "cell_type": "markdown",
   "metadata": {},
   "source": [
    "# Transit"
   ]
  },
  {
   "cell_type": "code",
   "execution_count": 734,
   "metadata": {
    "collapsed": false
   },
   "outputs": [],
   "source": [
    "transit_df = pd.read_excel(r'data\\network_summary_detailed.xlsx', sheetname='Transit Summaries')\n",
    "transit_df.index = transit_df['route_code']"
   ]
  },
  {
   "cell_type": "code",
   "execution_count": 735,
   "metadata": {
    "collapsed": false
   },
   "outputs": [],
   "source": [
    "# Reformat data\n",
    "dict_result = {}\n",
    "for field in ['board','time']:\n",
    "    df = pd.DataFrame(transit_df[[tod+'_'+ field for tod in todlist]].stack())\n",
    "    df.rename(columns={0:field}, inplace=True)\n",
    "    df['tod'] = [i.split('_')[0] for i in df.index.get_level_values(1)]\n",
    "    df['route_id'] = df.index.get_level_values(0)\n",
    "    df.reset_index(inplace=True, drop=True)\n",
    "    \n",
    "    dict_result[field] = df\n",
    "\n"
   ]
  },
  {
   "cell_type": "code",
   "execution_count": 736,
   "metadata": {
    "collapsed": false
   },
   "outputs": [],
   "source": [
    "model = dict_result['board']\n",
    "model.rename(columns={'board':'model_boardings'}, inplace=True)"
   ]
  },
  {
   "cell_type": "code",
   "execution_count": 737,
   "metadata": {
    "collapsed": false
   },
   "outputs": [],
   "source": [
    "# Load observed results\n",
    "obs = pd.read_csv('data/transit_boardings_2014.csv')\n",
    "obs.index = obs['PSRC_Rte_ID']\n",
    "\n",
    "obs.drop([u'Unnamed: 0','PSRC_Rte_ID','SignRt'],axis=1,inplace=True)\n",
    "\n",
    "# [i.split('_')[-1] for i in obs.columns]\n",
    "\n",
    "# Rename columns\n",
    "# obs[['hour_'+ str(i) for i in xrange(1,25)]].columns = [str(i) for i in xrange(1,25)]\n",
    "df = pd.DataFrame(obs.stack())\n",
    "\n",
    "df['hour'] = df.index.get_level_values(1)\n",
    "df['route_id'] = df.index.get_level_values(0)\n",
    "\n",
    "df.reset_index(inplace=True, drop=True)\n",
    "df.rename(columns={0:'observed_boardings'}, inplace=True)\n",
    "\n",
    "df['hour'] = df['hour'].apply(lambda row: row.split('_')[-1])"
   ]
  },
  {
   "cell_type": "code",
   "execution_count": 738,
   "metadata": {
    "collapsed": false
   },
   "outputs": [],
   "source": [
    "# look up psrc time of day \n",
    "tod_list = ['5to6','6to7','7to8','8to9','9to10','10to14','14to15','16to17','17to18','18to20','20to5']\n",
    "\n",
    "tod_lookup = {  0:'20to5',\n",
    "                1:'20to5',\n",
    "                2:'20to5',\n",
    "                3:'20to5',\n",
    "                4:'20to5',\n",
    "                5:'5to6',\n",
    "                6:'6to7',\n",
    "                7:'7to8',\n",
    "                8:'8to9',\n",
    "                9:'9to10',\n",
    "                10:'10to14',\n",
    "                11:'10to14',\n",
    "                12:'10to14',\n",
    "                13:'10to14',\n",
    "                14:'14to15',\n",
    "                15:'15to16',\n",
    "                16:'16to17',\n",
    "                17:'17to18',\n",
    "                18:'18to20',\n",
    "                19:'18to20',\n",
    "                20:'18to20',\n",
    "                21:'20to5',\n",
    "                22:'20to5',\n",
    "                23:'20to5' }"
   ]
  },
  {
   "cell_type": "code",
   "execution_count": 739,
   "metadata": {
    "collapsed": false
   },
   "outputs": [
    {
     "data": {
      "text/plain": [
       "9192"
      ]
     },
     "execution_count": 739,
     "metadata": {},
     "output_type": "execute_result"
    }
   ],
   "source": [
    "len(df)"
   ]
  },
  {
   "cell_type": "code",
   "execution_count": 740,
   "metadata": {
    "collapsed": false
   },
   "outputs": [],
   "source": [
    "# Load tod lookup\n",
    "tod_df = pd.DataFrame(data=tod_lookup.values(),index=tod_lookup.keys(), columns=['tod'])\n",
    "tod_df['hour'] = tod_df.index.astype('str')\n",
    "\n",
    "df = pd.merge(df,tod_df,on='hour')\n",
    "df.drop('hour', axis=1,inplace=True)"
   ]
  },
  {
   "cell_type": "code",
   "execution_count": 741,
   "metadata": {
    "collapsed": false
   },
   "outputs": [
    {
     "data": {
      "text/plain": [
       "8809"
      ]
     },
     "execution_count": 741,
     "metadata": {},
     "output_type": "execute_result"
    }
   ],
   "source": [
    "len(df)"
   ]
  },
  {
   "cell_type": "code",
   "execution_count": 742,
   "metadata": {
    "collapsed": false
   },
   "outputs": [],
   "source": [
    "# Group by tod\n",
    "df = df.groupby(['tod','route_id']).sum()\n",
    "df['tod'] = df.index.get_level_values(0)\n",
    "df['route_id'] = df.index.get_level_values(1)\n",
    "df.reset_index(inplace=True, drop=True)\n",
    "\n",
    "obs = df"
   ]
  },
  {
   "cell_type": "code",
   "execution_count": 743,
   "metadata": {
    "collapsed": false
   },
   "outputs": [
    {
     "data": {
      "text/plain": [
       "4584"
      ]
     },
     "execution_count": 743,
     "metadata": {},
     "output_type": "execute_result"
    }
   ],
   "source": [
    "len(obs)"
   ]
  },
  {
   "cell_type": "code",
   "execution_count": 744,
   "metadata": {
    "collapsed": false
   },
   "outputs": [
    {
     "data": {
      "text/plain": [
       "1955"
      ]
     },
     "execution_count": 744,
     "metadata": {},
     "output_type": "execute_result"
    }
   ],
   "source": [
    "len(model)"
   ]
  },
  {
   "cell_type": "code",
   "execution_count": 750,
   "metadata": {
    "collapsed": false
   },
   "outputs": [
    {
     "data": {
      "text/plain": [
       "1662"
      ]
     },
     "execution_count": 750,
     "metadata": {},
     "output_type": "execute_result"
    }
   ],
   "source": [
    "# Merge model and observed data\n",
    "df = pd.merge(obs,model,on=['tod','route_id'])\n",
    "df.to_csv('transit_boarding.csv')\n",
    "len(df)"
   ]
  },
  {
   "cell_type": "code",
   "execution_count": 746,
   "metadata": {
    "collapsed": false
   },
   "outputs": [
    {
     "data": {
      "text/html": [
       "<div style=\"max-height:1000px;max-width:1500px;overflow:auto;\">\n",
       "<table border=\"1\" class=\"dataframe\">\n",
       "  <thead>\n",
       "    <tr style=\"text-align: right;\">\n",
       "      <th></th>\n",
       "      <th>observed_boardings</th>\n",
       "      <th>route_id</th>\n",
       "    </tr>\n",
       "    <tr>\n",
       "      <th>tod</th>\n",
       "      <th></th>\n",
       "      <th></th>\n",
       "    </tr>\n",
       "  </thead>\n",
       "  <tbody>\n",
       "    <tr>\n",
       "      <th>10to14</th>\n",
       "      <td> 382</td>\n",
       "      <td> 382</td>\n",
       "    </tr>\n",
       "    <tr>\n",
       "      <th>14to15</th>\n",
       "      <td> 382</td>\n",
       "      <td> 382</td>\n",
       "    </tr>\n",
       "    <tr>\n",
       "      <th>15to16</th>\n",
       "      <td> 382</td>\n",
       "      <td> 382</td>\n",
       "    </tr>\n",
       "    <tr>\n",
       "      <th>16to17</th>\n",
       "      <td> 382</td>\n",
       "      <td> 382</td>\n",
       "    </tr>\n",
       "    <tr>\n",
       "      <th>17to18</th>\n",
       "      <td> 382</td>\n",
       "      <td> 382</td>\n",
       "    </tr>\n",
       "    <tr>\n",
       "      <th>18to20</th>\n",
       "      <td> 382</td>\n",
       "      <td> 382</td>\n",
       "    </tr>\n",
       "    <tr>\n",
       "      <th>20to5</th>\n",
       "      <td> 382</td>\n",
       "      <td> 382</td>\n",
       "    </tr>\n",
       "    <tr>\n",
       "      <th>5to6</th>\n",
       "      <td> 382</td>\n",
       "      <td> 382</td>\n",
       "    </tr>\n",
       "    <tr>\n",
       "      <th>6to7</th>\n",
       "      <td> 382</td>\n",
       "      <td> 382</td>\n",
       "    </tr>\n",
       "    <tr>\n",
       "      <th>7to8</th>\n",
       "      <td> 382</td>\n",
       "      <td> 382</td>\n",
       "    </tr>\n",
       "    <tr>\n",
       "      <th>8to9</th>\n",
       "      <td> 382</td>\n",
       "      <td> 382</td>\n",
       "    </tr>\n",
       "    <tr>\n",
       "      <th>9to10</th>\n",
       "      <td> 382</td>\n",
       "      <td> 382</td>\n",
       "    </tr>\n",
       "  </tbody>\n",
       "</table>\n",
       "</div>"
      ],
      "text/plain": [
       "        observed_boardings  route_id\n",
       "tod                                 \n",
       "10to14                 382       382\n",
       "14to15                 382       382\n",
       "15to16                 382       382\n",
       "16to17                 382       382\n",
       "17to18                 382       382\n",
       "18to20                 382       382\n",
       "20to5                  382       382\n",
       "5to6                   382       382\n",
       "6to7                   382       382\n",
       "7to8                   382       382\n",
       "8to9                   382       382\n",
       "9to10                  382       382"
      ]
     },
     "execution_count": 746,
     "metadata": {},
     "output_type": "execute_result"
    }
   ],
   "source": [
    "# Add geography\n",
    "obs.groupby('tod').count()"
   ]
  },
  {
   "cell_type": "markdown",
   "metadata": {},
   "source": [
    "# Traffic Counts"
   ]
  },
  {
   "cell_type": "code",
   "execution_count": 317,
   "metadata": {
    "collapsed": false
   },
   "outputs": [],
   "source": [
    "counts_df = pd.read_excel(r'J:\\Projects\\Soundcast\\network_summary_detailed.xlsx', sheetname='Counts Output')\n"
   ]
  },
  {
   "cell_type": "code",
   "execution_count": 318,
   "metadata": {
    "collapsed": false
   },
   "outputs": [],
   "source": [
    "# Reset indices\n",
    "counts_df['loop_INode'] = counts_df.index.get_level_values(0)\n",
    "counts_df['loop_JNode'] = counts_df.index.get_level_values(1)\n",
    "\n",
    "counts_df.reset_index(inplace=True,drop=True)\n",
    "\n",
    "# Drop first row - included column names as a row\n",
    "counts_df.drop(0,inplace=True)\n",
    "\n",
    "# drop extra columns\n",
    "counts_df.drop([u'OBJECTID_1', u'Join_Count', u'TARGET_FID', u'OBJECTID', u'SR', u'RID', \n",
    "         u'MP', u'ARM', u'Type_', u'Lanes', u'Oneway', u'Dir', u'ID',\n",
    "         u'HOV_I', u'HOV_J'],\n",
    "       axis=1, inplace=True)"
   ]
  },
  {
   "cell_type": "markdown",
   "metadata": {},
   "source": [
    "- observed"
   ]
  },
  {
   "cell_type": "code",
   "execution_count": 391,
   "metadata": {
    "collapsed": false
   },
   "outputs": [],
   "source": [
    "df = counts_df\n",
    "\n",
    "for i in xrange(24):\n",
    "    if i < 10:\n",
    "        df = df.rename(columns={'Vol_0'+str(i): str(i)})\n",
    "    df = df.rename(columns={'Vol_'+str(i): str(i)})\n",
    "    \n",
    "df = df[[str(i) for i in xrange(24)]+['NewINode']]\n",
    "df = df.set_index(keys='NewINode',drop=True)\n",
    "\n",
    "# realign\n",
    "df = pd.DataFrame(df.stack())\n",
    "\n",
    "df['hour'] = df.index.get_level_values(1)\n",
    "df['NewINode'] = df.index.get_level_values(0)\n",
    "df.rename(columns={0:'observed'}, inplace=True)\n",
    "df.reset_index(inplace=True,drop=True)\n",
    "\n",
    "# Aggregate results by soundcast tod dict\n",
    "\n",
    "# Load tod lookup\n",
    "tod_df = pd.DataFrame(data=tod_lookup.values(),index=tod_lookup.keys(), columns=['tod'])\n",
    "tod_df['hour'] = tod_df.index.astype('str')\n",
    "\n",
    "df = pd.merge(df,tod_df,on='hour')\n",
    "df.drop('hour', axis=1,inplace=True)\n",
    "\n",
    "# Group by tod\n",
    "df = df.groupby(['tod','NewINode']).sum()\n",
    "df['tod'] = df.index.get_level_values(0)\n",
    "df['NewINode'] = df.index.get_level_values(1)\n",
    "df.reset_index(inplace=True, drop=True)\n",
    "\n",
    "obs = df"
   ]
  },
  {
   "cell_type": "code",
   "execution_count": null,
   "metadata": {
    "collapsed": false
   },
   "outputs": [],
   "source": []
  },
  {
   "cell_type": "code",
   "execution_count": 394,
   "metadata": {
    "collapsed": false
   },
   "outputs": [
    {
     "data": {
      "text/plain": [
       "2136"
      ]
     },
     "execution_count": 394,
     "metadata": {},
     "output_type": "execute_result"
    }
   ],
   "source": [
    "len(obs)"
   ]
  },
  {
   "cell_type": "code",
   "execution_count": 395,
   "metadata": {
    "collapsed": false
   },
   "outputs": [
    {
     "data": {
      "text/plain": [
       "2231"
      ]
     },
     "execution_count": 395,
     "metadata": {},
     "output_type": "execute_result"
    }
   ],
   "source": [
    "len(mod)"
   ]
  },
  {
   "cell_type": "markdown",
   "metadata": {},
   "source": [
    "- model"
   ]
  },
  {
   "cell_type": "code",
   "execution_count": 397,
   "metadata": {
    "collapsed": false
   },
   "outputs": [],
   "source": [
    "df = counts_df\n",
    "\n",
    "\n",
    "df = df[['vol'+str(i) for i in tod_list]+['NewINode']]\n",
    "df = df.set_index(keys='NewINode',drop=True)\n",
    "\n",
    "# realign\n",
    "df = pd.DataFrame(df.stack())\n",
    "\n",
    "df['tod'] = df.index.get_level_values(1)\n",
    "df['tod'] = df['tod'].apply(lambda row: row.split('vol')[-1])\n",
    "df['NewINode'] = df.index.get_level_values(0)\n",
    "df.rename(columns={0:'model'}, inplace=True)\n",
    "df.reset_index(inplace=True,drop=True)\n",
    "\n",
    "mod = df"
   ]
  },
  {
   "cell_type": "markdown",
   "metadata": {},
   "source": [
    "- join model and observed dataframe"
   ]
  },
  {
   "cell_type": "code",
   "execution_count": 407,
   "metadata": {
    "collapsed": false
   },
   "outputs": [],
   "source": [
    "df_out = pd.merge(mod,obs,on=['tod','NewINode'])\n",
    "\n",
    "# Join with lat and lon\n",
    "junctions = pd.read_csv('data/all_junctions.txt')\n",
    "\n",
    "df_out = pd.merge(df_out, junctions[['PSRCjunctI','lat','lon']],left_on='NewINode',right_on='PSRCjunctI')\n",
    "df_out.to_csv('sample_counts.csv')"
   ]
  },
  {
   "cell_type": "code",
   "execution_count": 409,
   "metadata": {
    "collapsed": false
   },
   "outputs": [
    {
     "data": {
      "text/html": [
       "<div style=\"max-height:1000px;max-width:1500px;overflow:auto;\">\n",
       "<table border=\"1\" class=\"dataframe\">\n",
       "  <thead>\n",
       "    <tr style=\"text-align: right;\">\n",
       "      <th></th>\n",
       "      <th>model</th>\n",
       "      <th>tod</th>\n",
       "      <th>NewINode</th>\n",
       "      <th>observed</th>\n",
       "      <th>PSRCjunctI</th>\n",
       "      <th>lat</th>\n",
       "      <th>lon</th>\n",
       "    </tr>\n",
       "  </thead>\n",
       "  <tbody>\n",
       "    <tr>\n",
       "      <th>0</th>\n",
       "      <td>  464.327362</td>\n",
       "      <td> 5to6</td>\n",
       "      <td> 21763</td>\n",
       "      <td>  928.166667</td>\n",
       "      <td> 21763</td>\n",
       "      <td> 47.931031</td>\n",
       "      <td>-122.260633</td>\n",
       "    </tr>\n",
       "    <tr>\n",
       "      <th>1</th>\n",
       "      <td>  199.494034</td>\n",
       "      <td> 5to6</td>\n",
       "      <td> 21763</td>\n",
       "      <td>  928.166667</td>\n",
       "      <td> 21763</td>\n",
       "      <td> 47.931031</td>\n",
       "      <td>-122.260633</td>\n",
       "    </tr>\n",
       "    <tr>\n",
       "      <th>2</th>\n",
       "      <td>  902.610779</td>\n",
       "      <td> 6to7</td>\n",
       "      <td> 21763</td>\n",
       "      <td> 1477.333333</td>\n",
       "      <td> 21763</td>\n",
       "      <td> 47.931031</td>\n",
       "      <td>-122.260633</td>\n",
       "    </tr>\n",
       "    <tr>\n",
       "      <th>3</th>\n",
       "      <td>  392.331024</td>\n",
       "      <td> 6to7</td>\n",
       "      <td> 21763</td>\n",
       "      <td> 1477.333333</td>\n",
       "      <td> 21763</td>\n",
       "      <td> 47.931031</td>\n",
       "      <td>-122.260633</td>\n",
       "    </tr>\n",
       "    <tr>\n",
       "      <th>4</th>\n",
       "      <td> 1079.594116</td>\n",
       "      <td> 7to8</td>\n",
       "      <td> 21763</td>\n",
       "      <td> 1514.133333</td>\n",
       "      <td> 21763</td>\n",
       "      <td> 47.931031</td>\n",
       "      <td>-122.260633</td>\n",
       "    </tr>\n",
       "  </tbody>\n",
       "</table>\n",
       "</div>"
      ],
      "text/plain": [
       "         model   tod  NewINode     observed  PSRCjunctI        lat         lon\n",
       "0   464.327362  5to6     21763   928.166667       21763  47.931031 -122.260633\n",
       "1   199.494034  5to6     21763   928.166667       21763  47.931031 -122.260633\n",
       "2   902.610779  6to7     21763  1477.333333       21763  47.931031 -122.260633\n",
       "3   392.331024  6to7     21763  1477.333333       21763  47.931031 -122.260633\n",
       "4  1079.594116  7to8     21763  1514.133333       21763  47.931031 -122.260633"
      ]
     },
     "execution_count": 409,
     "metadata": {},
     "output_type": "execute_result"
    }
   ],
   "source": [
    "df_out.head()"
   ]
  },
  {
   "cell_type": "markdown",
   "metadata": {},
   "source": [
    "#  Network Summary"
   ]
  },
  {
   "cell_type": "code",
   "execution_count": 491,
   "metadata": {
    "collapsed": false
   },
   "outputs": [],
   "source": [
    "net_summary_df = pd.read_excel(r'J:\\Projects\\Soundcast\\network_summary_detailed.xlsx', sheetname='Network Summary')\n",
    "df = pd.DataFrame(net_summary_df.stack())\n",
    "df['tod']= df.index.get_level_values(0)\n",
    "df['fieldname'] = df.index.get_level_values(1)\n",
    "df.rename(columns={0:'model_value'},inplace=True)\n",
    "df.reset_index(inplace=True, drop=True)\n",
    "# Drop the rows with TP_4k column headers\n",
    "df.drop(df[df['fieldname'] == 'TP_4k'].index, inplace=True)\n",
    "# Split the fields by vmt, vht, delay\n",
    "df['facility_type'] = df.fieldname.apply(lambda row: row.split('_')[0])\n",
    "df['metric'] = df.fieldname.apply(lambda row: row.split('_')[-1])"
   ]
  },
  {
   "cell_type": "code",
   "execution_count": 492,
   "metadata": {
    "collapsed": false
   },
   "outputs": [],
   "source": []
  },
  {
   "cell_type": "code",
   "execution_count": 493,
   "metadata": {
    "collapsed": false
   },
   "outputs": [],
   "source": []
  },
  {
   "cell_type": "code",
   "execution_count": 494,
   "metadata": {
    "collapsed": false
   },
   "outputs": [],
   "source": []
  },
  {
   "cell_type": "code",
   "execution_count": 495,
   "metadata": {
    "collapsed": false
   },
   "outputs": [],
   "source": []
  },
  {
   "cell_type": "code",
   "execution_count": 496,
   "metadata": {
    "collapsed": false
   },
   "outputs": [],
   "source": []
  },
  {
   "cell_type": "code",
   "execution_count": 497,
   "metadata": {
    "collapsed": false
   },
   "outputs": [],
   "source": []
  },
  {
   "cell_type": "code",
   "execution_count": 498,
   "metadata": {
    "collapsed": false
   },
   "outputs": [],
   "source": []
  },
  {
   "cell_type": "code",
   "execution_count": 500,
   "metadata": {
    "collapsed": false
   },
   "outputs": [],
   "source": [
    "df.to_csv('network_summary.csv')"
   ]
  },
  {
   "cell_type": "markdown",
   "metadata": {},
   "source": [
    "- add results from another run"
   ]
  },
  {
   "cell_type": "code",
   "execution_count": null,
   "metadata": {
    "collapsed": true
   },
   "outputs": [],
   "source": []
  }
 ],
 "metadata": {
  "kernelspec": {
   "display_name": "Python 2",
   "language": "python",
   "name": "python2"
  },
  "language_info": {
   "codemirror_mode": {
    "name": "ipython",
    "version": 2
   },
   "file_extension": ".py",
   "mimetype": "text/x-python",
   "name": "python",
   "nbconvert_exporter": "python",
   "pygments_lexer": "ipython2",
   "version": "2.7.9"
  }
 },
 "nbformat": 4,
 "nbformat_minor": 0
}
