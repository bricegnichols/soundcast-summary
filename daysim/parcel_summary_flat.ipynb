{
 "cells": [
  {
   "cell_type": "code",
   "execution_count": 118,
   "metadata": {
    "collapsed": true
   },
   "outputs": [],
   "source": [
    "import pandas as pd\n",
    "import os"
   ]
  },
  {
   "cell_type": "code",
   "execution_count": 4,
   "metadata": {
    "collapsed": true
   },
   "outputs": [],
   "source": []
  },
  {
   "cell_type": "code",
   "execution_count": 10,
   "metadata": {
    "collapsed": false
   },
   "outputs": [
    {
     "data": {
      "text/plain": [
       "Index([u'parcelid', u'xcoord_p', u'ycoord_p', u'sqft_p', u'taz_p', u'lutype_p', u'hh_p', u'stugrd_p', u'stuhgh_p', u'stuuni_p', u'empedu_p', u'empfoo_p', u'empgov_p', u'empind_p', u'empmed_p', u'empofc_p', u'empret_p', u'empsvc_p', u'empoth_p', u'emptot_p', u'parkdy_p', u'parkhr_p', u'ppricdyp', u'pprichrp', u'hh_1', u'stugrd_1', u'stuhgh_1', u'stuuni_1', u'empedu_1', u'empfoo_1', u'empgov_1', u'empind_1', u'empmed_1', u'empofc_1', u'empret_1', u'empsvc_1', u'empoth_1', u'emptot_1', u'parkdy_1', u'parkhr_1', u'ppricdy1', u'pprichr1', u'nodes1_1', u'nodes3_1', u'nodes4_1', u'tstops_1', u'nparks_1', u'aparks_1', u'hh_2', u'stugrd_2', u'stuhgh_2', u'stuuni_2', u'empedu_2', u'empfoo_2', u'empgov_2', u'empind_2', u'empmed_2', u'empofc_2', u'empret_2', u'empsvc_2', u'empoth_2', u'emptot_2', u'parkdy_2', u'parkhr_2', u'ppricdy2', u'pprichr2', u'nodes1_2', u'nodes3_2', u'nodes4_2', u'tstops_2', u'nparks_2', u'aparks_2', u'dist_lbus', u'dist_ebus', u'dist_crt', u'dist_fry', u'dist_lrt', u'dist_park'], dtype='object')"
      ]
     },
     "execution_count": 10,
     "metadata": {},
     "output_type": "execute_result"
    }
   ],
   "source": [
    "df.columns\n"
   ]
  },
  {
   "cell_type": "code",
   "execution_count": 28,
   "metadata": {
    "collapsed": true
   },
   "outputs": [],
   "source": [
    "# variable lookup"
   ]
  },
  {
   "cell_type": "code",
   "execution_count": 50,
   "metadata": {
    "collapsed": true
   },
   "outputs": [],
   "source": [
    "# district_lookup = pd.read_csv('data/district_lookup.csv')"
   ]
  },
  {
   "cell_type": "code",
   "execution_count": 126,
   "metadata": {
    "collapsed": false
   },
   "outputs": [],
   "source": [
    "df2010 = pd.read_csv(r'R:\\SoundCast\\releases\\TransportationFutures2010\\inputs\\buffered_parcels.dat', sep=' ')\n",
    "df2010['source'] = 'df2010'\n",
    "\n",
    "df2040 = pd.read_csv(r'R:\\SoundCast\\Inputs\\2040_tranFu\\landuse\\buffered_parcels.dat', sep=' ')\n",
    "df2040['source'] = 'df2040'\n",
    "\n",
    "output_dir = r'J:\\Projects\\Soundcast\\soundcast_dashboard\\model_output'\n",
    "fname = 'parcel_taz_sums.csv'\n",
    "\n",
    "overwrite = True\n",
    "if overwrite:\n",
    "    if os.path.isfile(os.path.join(output_dir,fname+'.csv')):\n",
    "            os.remove(os.path.join(output_dir,fname+'.csv'))\n",
    "\n",
    "for df in [df2010,df2040]:\n",
    "    \n",
    "    source = df['source'].iloc[0]\n",
    "    \n",
    "    taz_sum = df.groupby('taz_p').sum()\n",
    "    taz_sum = pd.DataFrame(taz_sum[['hh_p','stugrd_p','stuhgh_p','stuuni_p','empedu_p','empfoo_p','empgov_p','empind_p','empmed_p',\n",
    "                         'empofc_p','empret_p','empsvc_p','empoth_p']].stack())\n",
    "    taz_sum.reset_index(inplace=True)\n",
    "    taz_sum = taz_sum.rename(columns={'level_1':'measure',\n",
    "                                      0:'value'})\n",
    "    taz_sum = pd.merge(taz_sum,district_lookup,left_on='taz_p',right_on='taz')\n",
    "    \n",
    "    taz_sum['source'] = source\n",
    "    \n",
    "    \n",
    "    if not os.path.isfile(os.path.join(output_dir,fname)):\n",
    "        taz_sum.to_csv(os.path.join(output_dir,fname))\n",
    "    else: # append without writing the header\n",
    "        taz_sum.to_csv(os.path.join(output_dir,fname), mode ='a', header=False)"
   ]
  },
  {
   "cell_type": "code",
   "execution_count": 122,
   "metadata": {
    "collapsed": false
   },
   "outputs": [],
   "source": [
    "df2010['source'] = '2010'"
   ]
  },
  {
   "cell_type": "code",
   "execution_count": 124,
   "metadata": {
    "collapsed": false
   },
   "outputs": [
    {
     "data": {
      "text/plain": [
       "'2010'"
      ]
     },
     "execution_count": 124,
     "metadata": {},
     "output_type": "execute_result"
    }
   ],
   "source": [
    "df2010['source']"
   ]
  },
  {
   "cell_type": "code",
   "execution_count": null,
   "metadata": {
    "collapsed": true
   },
   "outputs": [],
   "source": []
  }
 ],
 "metadata": {
  "kernelspec": {
   "display_name": "Python 2",
   "language": "python",
   "name": "python2"
  },
  "language_info": {
   "codemirror_mode": {
    "name": "ipython",
    "version": 2
   },
   "file_extension": ".py",
   "mimetype": "text/x-python",
   "name": "python",
   "nbconvert_exporter": "python",
   "pygments_lexer": "ipython2",
   "version": "2.7.9"
  }
 },
 "nbformat": 4,
 "nbformat_minor": 0
}
