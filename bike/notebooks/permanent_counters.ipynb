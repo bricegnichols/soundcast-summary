{
 "cells": [
  {
   "cell_type": "code",
   "execution_count": 32,
   "metadata": {
    "collapsed": true
   },
   "outputs": [],
   "source": [
    "import pandas as pd\n",
    "import requests, zipfile, StringIO\n",
    "from BeautifulSoup import BeautifulSoup\n",
    "% matplotlib inline"
   ]
  },
  {
   "cell_type": "markdown",
   "metadata": {},
   "source": [
    "# Fetch Latest Seattle Counter Data"
   ]
  },
  {
   "cell_type": "code",
   "execution_count": 126,
   "metadata": {
    "collapsed": true
   },
   "outputs": [],
   "source": [
    "endpoint_dict = {'nw_58th_st_greenway_st_22nd_ave_nw': 'https://data.seattle.gov/resource/kng8-tayh.json',\n",
    "                 'bgt_north_of_ne_70th': 'https://data.seattle.gov/resource/9nka-b3jn.json',\n",
    "                 'eilliott_bay_trail_in_myrtle_edwards_park': 'https://data.seattle.gov/resource/65r9-nekm.json',\n",
    "                 'chief_sealth_trl_north_of_thistle': 'https://data.seattle.gov/resource/t4f9-hyjz.json',\n",
    "                  'mts_trail_west_of_i_90_bridge': 'https://data.seattle.gov/resource/ekqi-b8f3.json',\n",
    "                 '_39th_ave_ne_greenway_at_ne_62nd_st': 'https://data.seattle.gov/resource/5cig-k5cs.json',\n",
    "                 'broadway_cycle_track_north_of_e_union_st': 'https://data.seattle.gov/resource/keqs-cqp7.json',\n",
    "                 '_26th_ave_sw_greenway_at_sw_oregon_st': 'https://data.seattle.gov/resource/ibyv-67da.json',\n",
    "                 '_2nd_ave_cycletrack': 'https://data.seattle.gov/resource/aq6e-mcz8.json',\n",
    "                 'spokane_st_bridge': 'https://data.seattle.gov/resource/v6y4-2gyc.json'}"
   ]
  },
  {
   "cell_type": "code",
   "execution_count": 128,
   "metadata": {
    "collapsed": false
   },
   "outputs": [],
   "source": [
    "df_dict = {}\n",
    "for name, endpoint in endpoint_dict.iteritems():\n",
    "    df_dict[name] = pd.read_json(endpoint,orient='columns')"
   ]
  },
  {
   "cell_type": "code",
   "execution_count": 141,
   "metadata": {
    "collapsed": true
   },
   "outputs": [],
   "source": [
    "# Data formats are inconsistent so we have to specify the bike columns to get totals\n",
    "\n",
    "# Bike total column(s)\n",
    "totals_dict   = {'nw_58th_st_greenway_st_22nd_ave_nw': ['east','west'],\n",
    "                 'bgt_north_of_ne_70th': ['bike_north','bike_south'],\n",
    "                 'eilliott_bay_trail_in_myrtle_edwards_park': ['bike_north','bike_south'],\n",
    "                 'chief_sealth_trl_north_of_thistle': ['bike_north','bike_south'],\n",
    "                  'mts_trail_west_of_i_90_bridge': ['bike_north','bike_south'],\n",
    "                 '_39th_ave_ne_greenway_at_ne_62nd_st': ['north','south'],\n",
    "                 'broadway_cycle_track_north_of_e_union_st': ['nb','sb'],\n",
    "                 '_26th_ave_sw_greenway_at_sw_oregon_st': ['north','south'],\n",
    "                 '_2nd_ave_cycletrack': ['nb','sb'],\n",
    "                 'spokane_st_bridge': ['east','west']}"
   ]
  },
  {
   "cell_type": "code",
   "execution_count": 223,
   "metadata": {
    "collapsed": false
   },
   "outputs": [],
   "source": [
    "# Results for october\n",
    "oct_counts = {}\n",
    "april_counts = {}\n",
    "\n",
    "for name, tot_cols in totals_dict.iteritems():\n",
    "    df = df_dict[name]\n",
    "    \n",
    "    # Create new total_bike column\n",
    "    df['total_bike'] = df[tot_cols].sum(axis=1)\n",
    "    \n",
    "    df['date_object'] = pd.to_datetime(df['date'])\n",
    "    # extract separate columns for year, month, day, and hour\n",
    "    df['year'] = df['date_object'].apply(lambda row: row.year)\n",
    "    df['month'] = df['date_object'].apply(lambda row: row.month)\n",
    "    df['day'] = df['date_object'].apply(lambda row: row.day)\n",
    "    df['hour'] = df['date_object'].apply(lambda row: row.hour)\n",
    "    df['weekday'] = df['date_object'].apply(lambda row: row.weekday())   # note weekends are 5 and 6, (sat and sunday)\n",
    "    # Weekday indicator\n",
    "    \n",
    "    # Get the mean for the month of October\n",
    "    oct_counts[name] = df[(df['month'] == 10) & (df['year'] == 2014) & (df['weekday'] < 5)].groupby('day')['total_bike'].sum().mean()\n",
    "    april_counts[name] = df[(df['month'] == 4) & (df['year'] == 2014) & (df['weekday'] < 5)].groupby('day')['total_bike'].sum().mean()"
   ]
  },
  {
   "cell_type": "code",
   "execution_count": 225,
   "metadata": {
    "collapsed": false
   },
   "outputs": [],
   "source": [
    "df = pd.DataFrame([oct_counts.keys(),oct_counts.values()]).T\n",
    "df.columns = ['location','total_bikes_october']"
   ]
  },
  {
   "cell_type": "code",
   "execution_count": 226,
   "metadata": {
    "collapsed": false
   },
   "outputs": [
    {
     "data": {
      "text/html": [
       "<div style=\"max-height:1000px;max-width:1500px;overflow:auto;\">\n",
       "<table border=\"1\" class=\"dataframe\">\n",
       "  <thead>\n",
       "    <tr style=\"text-align: right;\">\n",
       "      <th></th>\n",
       "      <th>location</th>\n",
       "      <th>total_bikes_october</th>\n",
       "    </tr>\n",
       "  </thead>\n",
       "  <tbody>\n",
       "    <tr>\n",
       "      <th>0</th>\n",
       "      <td>  broadway_cycle_track_north_of_e_union_st</td>\n",
       "      <td> 411.8696</td>\n",
       "    </tr>\n",
       "    <tr>\n",
       "      <th>1</th>\n",
       "      <td>             mts_trail_west_of_i_90_bridge</td>\n",
       "      <td> 496.5652</td>\n",
       "    </tr>\n",
       "    <tr>\n",
       "      <th>2</th>\n",
       "      <td>     _26th_ave_sw_greenway_at_sw_oregon_st</td>\n",
       "      <td> 925.3913</td>\n",
       "    </tr>\n",
       "    <tr>\n",
       "      <th>3</th>\n",
       "      <td>       _39th_ave_ne_greenway_at_ne_62nd_st</td>\n",
       "      <td> 320.7826</td>\n",
       "    </tr>\n",
       "    <tr>\n",
       "      <th>4</th>\n",
       "      <td>                       _2nd_ave_cycletrack</td>\n",
       "      <td>      NaN</td>\n",
       "    </tr>\n",
       "    <tr>\n",
       "      <th>5</th>\n",
       "      <td>         chief_sealth_trl_north_of_thistle</td>\n",
       "      <td>  19.3913</td>\n",
       "    </tr>\n",
       "    <tr>\n",
       "      <th>6</th>\n",
       "      <td>        nw_58th_st_greenway_st_22nd_ave_nw</td>\n",
       "      <td> 688.1304</td>\n",
       "    </tr>\n",
       "    <tr>\n",
       "      <th>7</th>\n",
       "      <td>                      bgt_north_of_ne_70th</td>\n",
       "      <td> 780.3478</td>\n",
       "    </tr>\n",
       "    <tr>\n",
       "      <th>8</th>\n",
       "      <td>                         spokane_st_bridge</td>\n",
       "      <td>  834.087</td>\n",
       "    </tr>\n",
       "    <tr>\n",
       "      <th>9</th>\n",
       "      <td> eilliott_bay_trail_in_myrtle_edwards_park</td>\n",
       "      <td> 1137.696</td>\n",
       "    </tr>\n",
       "  </tbody>\n",
       "</table>\n",
       "</div>"
      ],
      "text/plain": [
       "                                    location total_bikes_october\n",
       "0   broadway_cycle_track_north_of_e_union_st            411.8696\n",
       "1              mts_trail_west_of_i_90_bridge            496.5652\n",
       "2      _26th_ave_sw_greenway_at_sw_oregon_st            925.3913\n",
       "3        _39th_ave_ne_greenway_at_ne_62nd_st            320.7826\n",
       "4                        _2nd_ave_cycletrack                 NaN\n",
       "5          chief_sealth_trl_north_of_thistle             19.3913\n",
       "6         nw_58th_st_greenway_st_22nd_ave_nw            688.1304\n",
       "7                       bgt_north_of_ne_70th            780.3478\n",
       "8                          spokane_st_bridge             834.087\n",
       "9  eilliott_bay_trail_in_myrtle_edwards_park            1137.696"
      ]
     },
     "execution_count": 226,
     "metadata": {},
     "output_type": "execute_result"
    }
   ],
   "source": [
    "df"
   ]
  },
  {
   "cell_type": "markdown",
   "metadata": {},
   "source": [
    "## Connect these count locations to the 2-hour count locations\n"
   ]
  },
  {
   "cell_type": "code",
   "execution_count": 229,
   "metadata": {
    "collapsed": false
   },
   "outputs": [],
   "source": [
    "# load count observed data\n",
    "wsdot_counts = pd.read_csv('../data/wsdot_bike_counts.txt')"
   ]
  },
  {
   "cell_type": "code",
   "execution_count": null,
   "metadata": {
    "collapsed": false
   },
   "outputs": [],
   "source": []
  },
  {
   "cell_type": "code",
   "execution_count": null,
   "metadata": {
    "collapsed": true
   },
   "outputs": [],
   "source": []
  }
 ],
 "metadata": {
  "kernelspec": {
   "display_name": "Python 2",
   "language": "python",
   "name": "python2"
  },
  "language_info": {
   "codemirror_mode": {
    "name": "ipython",
    "version": 2
   },
   "file_extension": ".py",
   "mimetype": "text/x-python",
   "name": "python",
   "nbconvert_exporter": "python",
   "pygments_lexer": "ipython2",
   "version": "2.7.9"
  }
 },
 "nbformat": 4,
 "nbformat_minor": 0
}
